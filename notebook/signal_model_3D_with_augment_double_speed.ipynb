{
 "cells": [
  {
   "cell_type": "code",
   "execution_count": 1,
   "id": "false-witch",
   "metadata": {
    "ExecuteTime": {
     "end_time": "2021-08-12T01:07:04.586440Z",
     "start_time": "2021-08-12T01:07:02.380663Z"
    }
   },
   "outputs": [],
   "source": [
    "import numpy as np\n",
    "import pandas as pd\n",
    "import torch\n",
    "from torch.utils.data import Dataset\n",
    "from torch.utils.data import DataLoader\n",
    "import torch.nn as nn\n",
    "import torch.optim as optim\n",
    "\n",
    "import torchvision\n",
    "\n",
    "import torchaudio\n",
    "import torchaudio.transforms as T\n",
    "\n",
    "from tqdm.notebook import tqdm\n",
    "import matplotlib.pyplot as plt"
   ]
  },
  {
   "cell_type": "code",
   "execution_count": 2,
   "id": "recognized-crime",
   "metadata": {
    "ExecuteTime": {
     "end_time": "2021-08-12T01:07:04.652137Z",
     "start_time": "2021-08-12T01:07:04.599091Z"
    }
   },
   "outputs": [
    {
     "data": {
      "text/html": [
       "<div>\n",
       "<style scoped>\n",
       "    .dataframe tbody tr th:only-of-type {\n",
       "        vertical-align: middle;\n",
       "    }\n",
       "\n",
       "    .dataframe tbody tr th {\n",
       "        vertical-align: top;\n",
       "    }\n",
       "\n",
       "    .dataframe thead th {\n",
       "        text-align: right;\n",
       "    }\n",
       "</style>\n",
       "<table border=\"1\" class=\"dataframe\">\n",
       "  <thead>\n",
       "    <tr style=\"text-align: right;\">\n",
       "      <th></th>\n",
       "      <th>Unnamed: 0</th>\n",
       "      <th>file_path</th>\n",
       "      <th>classid</th>\n",
       "    </tr>\n",
       "  </thead>\n",
       "  <tbody>\n",
       "    <tr>\n",
       "      <th>0</th>\n",
       "      <td>0</td>\n",
       "      <td>../data/UrbanSound8K/slices_2d/fold1/46654-6-0...</td>\n",
       "      <td>6</td>\n",
       "    </tr>\n",
       "    <tr>\n",
       "      <th>1</th>\n",
       "      <td>1</td>\n",
       "      <td>../data/UrbanSound8K/slices_2d/fold1/57320-0-0...</td>\n",
       "      <td>0</td>\n",
       "    </tr>\n",
       "    <tr>\n",
       "      <th>2</th>\n",
       "      <td>2</td>\n",
       "      <td>../data/UrbanSound8K/slices_2d/fold1/57320-0-0...</td>\n",
       "      <td>0</td>\n",
       "    </tr>\n",
       "    <tr>\n",
       "      <th>3</th>\n",
       "      <td>3</td>\n",
       "      <td>../data/UrbanSound8K/slices_2d/fold1/57320-0-0...</td>\n",
       "      <td>0</td>\n",
       "    </tr>\n",
       "    <tr>\n",
       "      <th>4</th>\n",
       "      <td>4</td>\n",
       "      <td>../data/UrbanSound8K/slices_2d/fold1/57320-0-0...</td>\n",
       "      <td>0</td>\n",
       "    </tr>\n",
       "  </tbody>\n",
       "</table>\n",
       "</div>"
      ],
      "text/plain": [
       "   Unnamed: 0                                          file_path  classid\n",
       "0           0  ../data/UrbanSound8K/slices_2d/fold1/46654-6-0...        6\n",
       "1           1  ../data/UrbanSound8K/slices_2d/fold1/57320-0-0...        0\n",
       "2           2  ../data/UrbanSound8K/slices_2d/fold1/57320-0-0...        0\n",
       "3           3  ../data/UrbanSound8K/slices_2d/fold1/57320-0-0...        0\n",
       "4           4  ../data/UrbanSound8K/slices_2d/fold1/57320-0-0...        0"
      ]
     },
     "execution_count": 2,
     "metadata": {},
     "output_type": "execute_result"
    }
   ],
   "source": [
    "df = pd.read_csv('../data/UrbanSound8K/slices_2d/slice_2d_filenames.csv')\n",
    "df.head()"
   ]
  },
  {
   "cell_type": "code",
   "execution_count": 3,
   "id": "noble-cruise",
   "metadata": {
    "ExecuteTime": {
     "end_time": "2021-08-12T01:07:04.675372Z",
     "start_time": "2021-08-12T01:07:04.671669Z"
    }
   },
   "outputs": [
    {
     "data": {
      "text/plain": [
       "10"
      ]
     },
     "execution_count": 3,
     "metadata": {},
     "output_type": "execute_result"
    }
   ],
   "source": [
    "len(df['classid'].unique())"
   ]
  },
  {
   "cell_type": "code",
   "execution_count": 4,
   "id": "dense-venue",
   "metadata": {
    "ExecuteTime": {
     "end_time": "2021-08-12T01:07:04.848980Z",
     "start_time": "2021-08-12T01:07:04.699564Z"
    }
   },
   "outputs": [],
   "source": [
    "df['fold'] = [int(text[-2][-1]) for text in df['file_path'].str.split('/')]"
   ]
  },
  {
   "cell_type": "code",
   "execution_count": 5,
   "id": "federal-hammer",
   "metadata": {
    "ExecuteTime": {
     "end_time": "2021-08-12T01:07:04.875908Z",
     "start_time": "2021-08-12T01:07:04.869219Z"
    }
   },
   "outputs": [
    {
     "data": {
      "text/html": [
       "<div>\n",
       "<style scoped>\n",
       "    .dataframe tbody tr th:only-of-type {\n",
       "        vertical-align: middle;\n",
       "    }\n",
       "\n",
       "    .dataframe tbody tr th {\n",
       "        vertical-align: top;\n",
       "    }\n",
       "\n",
       "    .dataframe thead th {\n",
       "        text-align: right;\n",
       "    }\n",
       "</style>\n",
       "<table border=\"1\" class=\"dataframe\">\n",
       "  <thead>\n",
       "    <tr style=\"text-align: right;\">\n",
       "      <th></th>\n",
       "      <th>Unnamed: 0</th>\n",
       "      <th>file_path</th>\n",
       "      <th>classid</th>\n",
       "      <th>fold</th>\n",
       "    </tr>\n",
       "  </thead>\n",
       "  <tbody>\n",
       "    <tr>\n",
       "      <th>0</th>\n",
       "      <td>0</td>\n",
       "      <td>../data/UrbanSound8K/slices_2d/fold1/46654-6-0...</td>\n",
       "      <td>6</td>\n",
       "      <td>1</td>\n",
       "    </tr>\n",
       "    <tr>\n",
       "      <th>1</th>\n",
       "      <td>1</td>\n",
       "      <td>../data/UrbanSound8K/slices_2d/fold1/57320-0-0...</td>\n",
       "      <td>0</td>\n",
       "      <td>1</td>\n",
       "    </tr>\n",
       "    <tr>\n",
       "      <th>2</th>\n",
       "      <td>2</td>\n",
       "      <td>../data/UrbanSound8K/slices_2d/fold1/57320-0-0...</td>\n",
       "      <td>0</td>\n",
       "      <td>1</td>\n",
       "    </tr>\n",
       "    <tr>\n",
       "      <th>3</th>\n",
       "      <td>3</td>\n",
       "      <td>../data/UrbanSound8K/slices_2d/fold1/57320-0-0...</td>\n",
       "      <td>0</td>\n",
       "      <td>1</td>\n",
       "    </tr>\n",
       "    <tr>\n",
       "      <th>4</th>\n",
       "      <td>4</td>\n",
       "      <td>../data/UrbanSound8K/slices_2d/fold1/57320-0-0...</td>\n",
       "      <td>0</td>\n",
       "      <td>1</td>\n",
       "    </tr>\n",
       "  </tbody>\n",
       "</table>\n",
       "</div>"
      ],
      "text/plain": [
       "   Unnamed: 0                                          file_path  classid  \\\n",
       "0           0  ../data/UrbanSound8K/slices_2d/fold1/46654-6-0...        6   \n",
       "1           1  ../data/UrbanSound8K/slices_2d/fold1/57320-0-0...        0   \n",
       "2           2  ../data/UrbanSound8K/slices_2d/fold1/57320-0-0...        0   \n",
       "3           3  ../data/UrbanSound8K/slices_2d/fold1/57320-0-0...        0   \n",
       "4           4  ../data/UrbanSound8K/slices_2d/fold1/57320-0-0...        0   \n",
       "\n",
       "   fold  \n",
       "0     1  \n",
       "1     1  \n",
       "2     1  \n",
       "3     1  \n",
       "4     1  "
      ]
     },
     "execution_count": 5,
     "metadata": {},
     "output_type": "execute_result"
    }
   ],
   "source": [
    "df.head()"
   ]
  },
  {
   "cell_type": "code",
   "execution_count": 6,
   "id": "outdoor-latex",
   "metadata": {
    "ExecuteTime": {
     "end_time": "2021-08-12T01:07:04.898706Z",
     "start_time": "2021-08-12T01:07:04.894745Z"
    }
   },
   "outputs": [],
   "source": [
    "class UrbanSoundDataset_time_stretch(Dataset):\n",
    "    def __init__(self, df, rate):\n",
    "        self.df = df\n",
    "        self.rate = rate\n",
    "        self.stretch = T.TimeStretch(n_freq=32)\n",
    "    \n",
    "    def __len__(self):\n",
    "        return len(self.df)\n",
    "    \n",
    "    def __getitem__(self, idx):\n",
    "        row = self.df.iloc[idx]\n",
    "        x = np.load(row['file_path'])\n",
    "        x = torch.tensor(x).float()\n",
    "        x = self.stretch(x, self.rate)\n",
    "        y = torch.tensor(row['classid'])\n",
    "        return x, y\n",
    "        "
   ]
  },
  {
   "cell_type": "code",
   "execution_count": 7,
   "id": "peripheral-saver",
   "metadata": {
    "ExecuteTime": {
     "end_time": "2021-08-12T01:07:04.940787Z",
     "start_time": "2021-08-12T01:07:04.919604Z"
    }
   },
   "outputs": [],
   "source": [
    "df_train = df[df['fold'] < 8]"
   ]
  },
  {
   "cell_type": "code",
   "execution_count": 8,
   "id": "fabulous-depression",
   "metadata": {
    "ExecuteTime": {
     "end_time": "2021-08-12T01:07:04.979585Z",
     "start_time": "2021-08-12T01:07:04.968304Z"
    }
   },
   "outputs": [],
   "source": [
    "df_val = df.drop(df_train.index)"
   ]
  },
  {
   "cell_type": "code",
   "execution_count": 9,
   "id": "healthy-tennessee",
   "metadata": {
    "ExecuteTime": {
     "end_time": "2021-08-12T01:07:05.025530Z",
     "start_time": "2021-08-12T01:07:05.021236Z"
    }
   },
   "outputs": [
    {
     "data": {
      "text/plain": [
       "(36175, 8100, 44275)"
      ]
     },
     "execution_count": 9,
     "metadata": {},
     "output_type": "execute_result"
    }
   ],
   "source": [
    "df_train.shape[0], df_val.shape[0], df.shape[0]"
   ]
  },
  {
   "cell_type": "code",
   "execution_count": 10,
   "id": "sudden-choice",
   "metadata": {
    "ExecuteTime": {
     "end_time": "2021-08-12T01:07:07.207588Z",
     "start_time": "2021-08-12T01:07:07.204399Z"
    }
   },
   "outputs": [],
   "source": [
    "ds_train = UrbanSoundDataset_time_stretch(df_train, rate=2)\n",
    "ds_val = UrbanSoundDataset_time_stretch(df_val, rate=2)\n",
    "dl_train = DataLoader(ds_train, batch_size=1000, shuffle=True)\n",
    "dl_val = DataLoader(ds_train, batch_size=500, shuffle=False)"
   ]
  },
  {
   "cell_type": "code",
   "execution_count": 11,
   "id": "treated-defensive",
   "metadata": {
    "ExecuteTime": {
     "end_time": "2021-08-12T01:07:07.469888Z",
     "start_time": "2021-08-12T01:07:07.464056Z"
    }
   },
   "outputs": [
    {
     "data": {
      "text/plain": [
       "torch.Size([32, 8, 2])"
      ]
     },
     "execution_count": 11,
     "metadata": {},
     "output_type": "execute_result"
    }
   ],
   "source": [
    "next(iter(ds_train))[0].shape"
   ]
  },
  {
   "cell_type": "code",
   "execution_count": 12,
   "id": "fatal-reform",
   "metadata": {
    "ExecuteTime": {
     "end_time": "2021-08-12T01:07:08.446668Z",
     "start_time": "2021-08-12T01:07:08.440717Z"
    }
   },
   "outputs": [],
   "source": [
    "class CNN_time_2(nn.Module):\n",
    "    def __init__(self):\n",
    "        super().__init__()\n",
    "\n",
    "        self.conv1 = nn.Conv2d(in_channels=32, out_channels=64, kernel_size=2, padding=1)\n",
    "        self.conv2 = nn.Conv2d(in_channels=64, out_channels=128, kernel_size=2, padding=1)\n",
    "        \n",
    "        self.linear1 = nn.Linear(256, 100)\n",
    "        self.linear2 = nn.Linear(100, 10)\n",
    "        \n",
    "        self.pool = nn.MaxPool2d(kernel_size=2)\n",
    "        self.relu = nn.ReLU()\n",
    "        self.tanh = nn.Tanh()\n",
    "        self.flatten = nn.Flatten()\n",
    "        \n",
    "        self.dropout = nn.Dropout2d(p=0.2)\n",
    "        \n",
    "        \n",
    "    def forward(self, x):\n",
    "        # helpful to do this along the way sometimes!\n",
    "        #print(x.shape)\n",
    "        \n",
    "        x = self.conv1(x)\n",
    "        x = self.tanh(x)\n",
    "        x = self.pool(x)\n",
    "        \n",
    "        x = self.conv2(x)\n",
    "        x = self.tanh(x)\n",
    "        x = self.pool(x)\n",
    "\n",
    "        x = self.dropout(x)\n",
    "        x = self.flatten(x)\n",
    "        \n",
    "        # unroll x for FC layer\n",
    "        x = self.linear1(self.flatten(x))\n",
    "        x = self.relu(x)\n",
    "        x = self.linear2(x)\n",
    "        \n",
    "        return x"
   ]
  },
  {
   "cell_type": "code",
   "execution_count": 13,
   "id": "earlier-tongue",
   "metadata": {
    "ExecuteTime": {
     "end_time": "2021-08-12T01:07:09.078095Z",
     "start_time": "2021-08-12T01:07:08.985161Z"
    }
   },
   "outputs": [
    {
     "name": "stdout",
     "output_type": "stream",
     "text": [
      "----------------------------------------------------------------\n",
      "        Layer (type)               Output Shape         Param #\n",
      "================================================================\n",
      "            Conv2d-1             [-1, 64, 9, 3]           8,256\n",
      "              Tanh-2             [-1, 64, 9, 3]               0\n",
      "         MaxPool2d-3             [-1, 64, 4, 1]               0\n",
      "            Conv2d-4            [-1, 128, 5, 2]          32,896\n",
      "              Tanh-5            [-1, 128, 5, 2]               0\n",
      "         MaxPool2d-6            [-1, 128, 2, 1]               0\n",
      "         Dropout2d-7            [-1, 128, 2, 1]               0\n",
      "           Flatten-8                  [-1, 256]               0\n",
      "           Flatten-9                  [-1, 256]               0\n",
      "           Linear-10                  [-1, 100]          25,700\n",
      "             ReLU-11                  [-1, 100]               0\n",
      "           Linear-12                   [-1, 10]           1,010\n",
      "================================================================\n",
      "Total params: 67,862\n",
      "Trainable params: 67,862\n",
      "Non-trainable params: 0\n",
      "----------------------------------------------------------------\n",
      "Input size (MB): 0.00\n",
      "Forward/backward pass size (MB): 0.06\n",
      "Params size (MB): 0.26\n",
      "Estimated Total Size (MB): 0.32\n",
      "----------------------------------------------------------------\n"
     ]
    }
   ],
   "source": [
    "model = CNN_time_2()\n",
    "from torchsummary import summary\n",
    "summary(model, input_size = (32, 8, 2), device='cpu')"
   ]
  },
  {
   "cell_type": "code",
   "execution_count": 14,
   "id": "competent-paragraph",
   "metadata": {
    "ExecuteTime": {
     "end_time": "2021-08-12T01:07:09.844028Z",
     "start_time": "2021-08-12T01:07:09.838137Z"
    }
   },
   "outputs": [],
   "source": [
    "def one_pass(model, dataloader, optimizer, lossFun, backwards=True, print_loss=False):\n",
    "    \n",
    "    if backwards == True:\n",
    "        model.train()\n",
    "    else:\n",
    "        model.eval()\n",
    "    \n",
    "    total_loss = 0.0\n",
    "    for x, y in tqdm(dataloader):\n",
    "        \n",
    "        y_pred = model(x)\n",
    "        loss = lossFun(y_pred, y)\n",
    "        total_loss += loss.item()\n",
    "        \n",
    "        if backwards == True:\n",
    "            optimizer.zero_grad()\n",
    "            loss.backward()\n",
    "            optimizer.step()\n",
    "    avg_loss = total_loss / len(dataloader)\n",
    "    \n",
    "    if print_loss == True:\n",
    "        print(avg_loss)\n",
    "    \n",
    "    return avg_loss\n",
    "\n",
    "def one_pass_acc(model, dataloader, num_points):\n",
    "    model.eval()\n",
    "    total_acc = []\n",
    "    \n",
    "    softmax = nn.Softmax(dim=1)\n",
    "    \n",
    "    for x, y in dataloader:\n",
    "        y_pred = softmax(model(x))\n",
    "        y_pred = torch.argmax(y_pred, dim=1)\n",
    "        \n",
    "        acc = 1 - (torch.count_nonzero(y - y_pred).item() / y.shape[0])\n",
    "        \n",
    "        total_acc.append(acc)\n",
    "        \n",
    "    return round(np.mean(total_acc),2)"
   ]
  },
  {
   "cell_type": "code",
   "execution_count": 15,
   "id": "systematic-tradition",
   "metadata": {
    "ExecuteTime": {
     "end_time": "2021-08-12T01:07:10.162513Z",
     "start_time": "2021-08-12T01:07:10.157474Z"
    }
   },
   "outputs": [],
   "source": [
    "from tqdm.notebook import tqdm\n",
    "def train_epoch(num_epochs, model, dl_train, dl_val, optimizer, lossFun, ds_train, ds_val):\n",
    "    train_losses = []\n",
    "    valid_losses = []\n",
    "    train_accs = []\n",
    "    valid_accs = []\n",
    "\n",
    "    for epoch in tqdm(range(num_epochs)):\n",
    "        print('Epoch: ', epoch)\n",
    "\n",
    "        train_loss = one_pass(model, dl_train, optimizer, lossFun)\n",
    "        train_losses.append(train_loss)\n",
    "        print('Train loss: ', train_loss)\n",
    "\n",
    "        valid_loss = one_pass(model, dl_val, optimizer, lossFun, backwards=False)\n",
    "        valid_losses.append(valid_loss)\n",
    "        print('Valid loss: ', valid_loss)\n",
    "\n",
    "        train_acc = one_pass_acc(model, dl_train, len(ds_train))\n",
    "        train_accs.append(train_acc)\n",
    "        valid_acc = one_pass_acc(model, dl_val, len(ds_val))\n",
    "        valid_accs.append(valid_acc)\n",
    "        print('Train Acc: ', train_acc)\n",
    "        print('Valid Acc: ', valid_acc)\n",
    "    \n",
    "    return train_losses, valid_losses, train_accs, valid_accs\n",
    "    "
   ]
  },
  {
   "cell_type": "code",
   "execution_count": 16,
   "id": "thirty-detection",
   "metadata": {
    "ExecuteTime": {
     "end_time": "2021-08-12T01:07:11.010178Z",
     "start_time": "2021-08-12T01:07:10.579635Z"
    }
   },
   "outputs": [],
   "source": [
    "import seaborn as sns"
   ]
  },
  {
   "cell_type": "code",
   "execution_count": 17,
   "id": "engaging-crash",
   "metadata": {
    "ExecuteTime": {
     "end_time": "2021-08-12T01:07:11.047984Z",
     "start_time": "2021-08-12T01:07:11.043719Z"
    }
   },
   "outputs": [],
   "source": [
    "def plot_results(train_loss, val_loss, train_acc, val_acc):\n",
    "    sns.set_theme()\n",
    "    fig, axes = plt.subplots(1,2, figsize=(15,5))\n",
    "    axes[0].plot(train_loss, label='train')\n",
    "    axes[0].plot(val_loss, label='validation')\n",
    "    axes[0].set_xlabel('Epoch')\n",
    "    axes[0].set_ylabel('Losses')\n",
    "    axes[0].legend()\n",
    "    \n",
    "    axes[1].plot(train_acc, label='train')\n",
    "    axes[1].plot(val_acc, label='validation')\n",
    "    axes[1].set_xlabel('Epoch')\n",
    "    axes[1].set_ylabel('Accuracy')\n",
    "    axes[1].legend()\n",
    "\n",
    "    plt.show()"
   ]
  },
  {
   "cell_type": "code",
   "execution_count": 18,
   "id": "loving-playing",
   "metadata": {
    "ExecuteTime": {
     "end_time": "2021-08-12T01:07:11.431862Z",
     "start_time": "2021-08-12T01:07:11.428564Z"
    }
   },
   "outputs": [],
   "source": [
    "ds_train = UrbanSoundDataset_time_stretch(df_train, rate=2)\n",
    "ds_val = UrbanSoundDataset_time_stretch(df_val, rate=2)\n",
    "dl_train = DataLoader(ds_train, batch_size=100, shuffle=True)\n",
    "dl_val = DataLoader(ds_val, batch_size=100, shuffle=False)"
   ]
  },
  {
   "cell_type": "code",
   "execution_count": 19,
   "id": "exciting-committee",
   "metadata": {
    "ExecuteTime": {
     "end_time": "2021-08-12T01:19:30.207005Z",
     "start_time": "2021-08-12T01:07:12.026943Z"
    }
   },
   "outputs": [
    {
     "data": {
      "application/vnd.jupyter.widget-view+json": {
       "model_id": "dcd4b4a69fbe4a38b495e08108561e15",
       "version_major": 2,
       "version_minor": 0
      },
      "text/plain": [
       "  0%|          | 0/10 [00:00<?, ?it/s]"
      ]
     },
     "metadata": {},
     "output_type": "display_data"
    },
    {
     "name": "stdout",
     "output_type": "stream",
     "text": [
      "Epoch:  0\n"
     ]
    },
    {
     "data": {
      "application/vnd.jupyter.widget-view+json": {
       "model_id": "1994548a9d024ba091db9cb715df0bea",
       "version_major": 2,
       "version_minor": 0
      },
      "text/plain": [
       "  0%|          | 0/362 [00:00<?, ?it/s]"
      ]
     },
     "metadata": {},
     "output_type": "display_data"
    },
    {
     "name": "stdout",
     "output_type": "stream",
     "text": [
      "Train loss:  1.7583496461915706\n"
     ]
    },
    {
     "data": {
      "application/vnd.jupyter.widget-view+json": {
       "model_id": "b6e92fe705f541b7a9ab140807cde64f",
       "version_major": 2,
       "version_minor": 0
      },
      "text/plain": [
       "  0%|          | 0/81 [00:00<?, ?it/s]"
      ]
     },
     "metadata": {},
     "output_type": "display_data"
    },
    {
     "name": "stdout",
     "output_type": "stream",
     "text": [
      "Valid loss:  1.6199871787318476\n",
      "Train Acc:  0.45\n",
      "Valid Acc:  0.38\n",
      "Epoch:  1\n"
     ]
    },
    {
     "data": {
      "application/vnd.jupyter.widget-view+json": {
       "model_id": "b596657eb81b4e61b42f468bb073b85c",
       "version_major": 2,
       "version_minor": 0
      },
      "text/plain": [
       "  0%|          | 0/362 [00:00<?, ?it/s]"
      ]
     },
     "metadata": {},
     "output_type": "display_data"
    },
    {
     "name": "stdout",
     "output_type": "stream",
     "text": [
      "Train loss:  1.3950938246526772\n"
     ]
    },
    {
     "data": {
      "application/vnd.jupyter.widget-view+json": {
       "model_id": "be541969011d446f9dd4a6056ebafcd5",
       "version_major": 2,
       "version_minor": 0
      },
      "text/plain": [
       "  0%|          | 0/81 [00:00<?, ?it/s]"
      ]
     },
     "metadata": {},
     "output_type": "display_data"
    },
    {
     "name": "stdout",
     "output_type": "stream",
     "text": [
      "Valid loss:  1.563652499958321\n",
      "Train Acc:  0.54\n",
      "Valid Acc:  0.44\n",
      "Epoch:  2\n"
     ]
    },
    {
     "data": {
      "application/vnd.jupyter.widget-view+json": {
       "model_id": "b2bfd5f99f5c4af2aac7a97e42bde8e7",
       "version_major": 2,
       "version_minor": 0
      },
      "text/plain": [
       "  0%|          | 0/362 [00:00<?, ?it/s]"
      ]
     },
     "metadata": {},
     "output_type": "display_data"
    },
    {
     "name": "stdout",
     "output_type": "stream",
     "text": [
      "Train loss:  1.211878575014146\n"
     ]
    },
    {
     "data": {
      "application/vnd.jupyter.widget-view+json": {
       "model_id": "38ef5056cbf0471b91023b2fc95cc7e0",
       "version_major": 2,
       "version_minor": 0
      },
      "text/plain": [
       "  0%|          | 0/81 [00:00<?, ?it/s]"
      ]
     },
     "metadata": {},
     "output_type": "display_data"
    },
    {
     "name": "stdout",
     "output_type": "stream",
     "text": [
      "Valid loss:  1.687024759657589\n",
      "Train Acc:  0.61\n",
      "Valid Acc:  0.45\n",
      "Epoch:  3\n"
     ]
    },
    {
     "data": {
      "application/vnd.jupyter.widget-view+json": {
       "model_id": "3c746de4742c463fb7f4ccc47e24be47",
       "version_major": 2,
       "version_minor": 0
      },
      "text/plain": [
       "  0%|          | 0/362 [00:00<?, ?it/s]"
      ]
     },
     "metadata": {},
     "output_type": "display_data"
    },
    {
     "name": "stdout",
     "output_type": "stream",
     "text": [
      "Train loss:  1.0869892183588354\n"
     ]
    },
    {
     "data": {
      "application/vnd.jupyter.widget-view+json": {
       "model_id": "5e1eecdefda34b46867d2609604d99f4",
       "version_major": 2,
       "version_minor": 0
      },
      "text/plain": [
       "  0%|          | 0/81 [00:00<?, ?it/s]"
      ]
     },
     "metadata": {},
     "output_type": "display_data"
    },
    {
     "name": "stdout",
     "output_type": "stream",
     "text": [
      "Valid loss:  1.7155872252252367\n",
      "Train Acc:  0.66\n",
      "Valid Acc:  0.5\n",
      "Epoch:  4\n"
     ]
    },
    {
     "data": {
      "application/vnd.jupyter.widget-view+json": {
       "model_id": "5bbc7ac8047a4cc8a88c82de5cc69712",
       "version_major": 2,
       "version_minor": 0
      },
      "text/plain": [
       "  0%|          | 0/362 [00:00<?, ?it/s]"
      ]
     },
     "metadata": {},
     "output_type": "display_data"
    },
    {
     "name": "stdout",
     "output_type": "stream",
     "text": [
      "Train loss:  0.9996525720996752\n"
     ]
    },
    {
     "data": {
      "application/vnd.jupyter.widget-view+json": {
       "model_id": "2b9ddd6feeb24035926767bd07b8640e",
       "version_major": 2,
       "version_minor": 0
      },
      "text/plain": [
       "  0%|          | 0/81 [00:00<?, ?it/s]"
      ]
     },
     "metadata": {},
     "output_type": "display_data"
    },
    {
     "name": "stdout",
     "output_type": "stream",
     "text": [
      "Valid loss:  1.7826287672843462\n",
      "Train Acc:  0.68\n",
      "Valid Acc:  0.49\n",
      "Epoch:  5\n"
     ]
    },
    {
     "data": {
      "application/vnd.jupyter.widget-view+json": {
       "model_id": "65200f516bb542819c328fb4433ced1e",
       "version_major": 2,
       "version_minor": 0
      },
      "text/plain": [
       "  0%|          | 0/362 [00:00<?, ?it/s]"
      ]
     },
     "metadata": {},
     "output_type": "display_data"
    },
    {
     "name": "stdout",
     "output_type": "stream",
     "text": [
      "Train loss:  0.9292395350353494\n"
     ]
    },
    {
     "data": {
      "application/vnd.jupyter.widget-view+json": {
       "model_id": "0d5aa66fe8444289a03a4838da5ca1da",
       "version_major": 2,
       "version_minor": 0
      },
      "text/plain": [
       "  0%|          | 0/81 [00:00<?, ?it/s]"
      ]
     },
     "metadata": {},
     "output_type": "display_data"
    },
    {
     "name": "stdout",
     "output_type": "stream",
     "text": [
      "Valid loss:  1.827487763799267\n",
      "Train Acc:  0.7\n",
      "Valid Acc:  0.45\n",
      "Epoch:  6\n"
     ]
    },
    {
     "data": {
      "application/vnd.jupyter.widget-view+json": {
       "model_id": "b4fb79c2bf954a91a4e13b7ce9cabc54",
       "version_major": 2,
       "version_minor": 0
      },
      "text/plain": [
       "  0%|          | 0/362 [00:00<?, ?it/s]"
      ]
     },
     "metadata": {},
     "output_type": "display_data"
    },
    {
     "name": "stdout",
     "output_type": "stream",
     "text": [
      "Train loss:  0.8715902504341378\n"
     ]
    },
    {
     "data": {
      "application/vnd.jupyter.widget-view+json": {
       "model_id": "2ad4b97ce10b4d708c3b4a4dea1e6932",
       "version_major": 2,
       "version_minor": 0
      },
      "text/plain": [
       "  0%|          | 0/81 [00:00<?, ?it/s]"
      ]
     },
     "metadata": {},
     "output_type": "display_data"
    },
    {
     "name": "stdout",
     "output_type": "stream",
     "text": [
      "Valid loss:  1.8163299957911174\n",
      "Train Acc:  0.72\n",
      "Valid Acc:  0.45\n",
      "Epoch:  7\n"
     ]
    },
    {
     "data": {
      "application/vnd.jupyter.widget-view+json": {
       "model_id": "44d735c8d74642a89f5f4d679682ec0b",
       "version_major": 2,
       "version_minor": 0
      },
      "text/plain": [
       "  0%|          | 0/362 [00:00<?, ?it/s]"
      ]
     },
     "metadata": {},
     "output_type": "display_data"
    },
    {
     "name": "stdout",
     "output_type": "stream",
     "text": [
      "Train loss:  0.8138992348428589\n"
     ]
    },
    {
     "data": {
      "application/vnd.jupyter.widget-view+json": {
       "model_id": "93ef9e7ae28b417681fe5dde43a36574",
       "version_major": 2,
       "version_minor": 0
      },
      "text/plain": [
       "  0%|          | 0/81 [00:00<?, ?it/s]"
      ]
     },
     "metadata": {},
     "output_type": "display_data"
    },
    {
     "name": "stdout",
     "output_type": "stream",
     "text": [
      "Valid loss:  1.8894779277436526\n",
      "Train Acc:  0.75\n",
      "Valid Acc:  0.44\n",
      "Epoch:  8\n"
     ]
    },
    {
     "data": {
      "application/vnd.jupyter.widget-view+json": {
       "model_id": "36f9145d459c48499702930c5792f490",
       "version_major": 2,
       "version_minor": 0
      },
      "text/plain": [
       "  0%|          | 0/362 [00:00<?, ?it/s]"
      ]
     },
     "metadata": {},
     "output_type": "display_data"
    },
    {
     "name": "stdout",
     "output_type": "stream",
     "text": [
      "Train loss:  0.772974194742698\n"
     ]
    },
    {
     "data": {
      "application/vnd.jupyter.widget-view+json": {
       "model_id": "1592ae495a714454a1e0a0958e1d6d86",
       "version_major": 2,
       "version_minor": 0
      },
      "text/plain": [
       "  0%|          | 0/81 [00:00<?, ?it/s]"
      ]
     },
     "metadata": {},
     "output_type": "display_data"
    },
    {
     "name": "stdout",
     "output_type": "stream",
     "text": [
      "Valid loss:  1.8982369185965737\n",
      "Train Acc:  0.76\n",
      "Valid Acc:  0.46\n",
      "Epoch:  9\n"
     ]
    },
    {
     "data": {
      "application/vnd.jupyter.widget-view+json": {
       "model_id": "7b81cca5a7f14de08490918d2d3a6824",
       "version_major": 2,
       "version_minor": 0
      },
      "text/plain": [
       "  0%|          | 0/362 [00:00<?, ?it/s]"
      ]
     },
     "metadata": {},
     "output_type": "display_data"
    },
    {
     "name": "stdout",
     "output_type": "stream",
     "text": [
      "Train loss:  0.7333948073795488\n"
     ]
    },
    {
     "data": {
      "application/vnd.jupyter.widget-view+json": {
       "model_id": "dda7c08dd8814b86b145f1b9740c0410",
       "version_major": 2,
       "version_minor": 0
      },
      "text/plain": [
       "  0%|          | 0/81 [00:00<?, ?it/s]"
      ]
     },
     "metadata": {},
     "output_type": "display_data"
    },
    {
     "name": "stdout",
     "output_type": "stream",
     "text": [
      "Valid loss:  2.067497491836548\n",
      "Train Acc:  0.77\n",
      "Valid Acc:  0.44\n"
     ]
    }
   ],
   "source": [
    "num_epoch = 10\n",
    "model = CNN_time_2()\n",
    "dl_train = dl_train\n",
    "dl_val = dl_val\n",
    "optimizer = torch.optim.AdamW(model.parameters(), lr=0.0005)\n",
    "lossFun = nn.CrossEntropyLoss()\n",
    "ds_train = ds_train\n",
    "ds_val = ds_val\n",
    "\n",
    "train_losses, valid_losses, train_accs, valid_accs = train_epoch(num_epoch, model, dl_train, dl_val, optimizer, lossFun, ds_train, ds_val)"
   ]
  },
  {
   "cell_type": "code",
   "execution_count": 20,
   "id": "southwest-implement",
   "metadata": {
    "ExecuteTime": {
     "end_time": "2021-08-12T01:19:30.502725Z",
     "start_time": "2021-08-12T01:19:30.239760Z"
    }
   },
   "outputs": [
    {
     "data": {
      "image/png": "[encoded data removed]",
      "text/plain": [
       "<Figure size 1080x360 with 2 Axes>"
      ]
     },
     "metadata": {},
     "output_type": "display_data"
    }
   ],
   "source": [
    "plot_results(train_losses, valid_losses, train_accs, valid_accs)"
   ]
  },
  {
   "cell_type": "code",
   "execution_count": 27,
   "id": "amber-twelve",
   "metadata": {
    "ExecuteTime": {
     "end_time": "2021-08-12T02:23:53.305936Z",
     "start_time": "2021-08-12T02:23:53.301377Z"
    }
   },
   "outputs": [],
   "source": [
    "def plot_results(train_loss, val_loss, train_acc, val_acc, save=False):\n",
    "    sns.set_theme()\n",
    "    fig, axes = plt.subplots(1,2, figsize=(15,5))\n",
    "    axes[0].plot(train_loss, label='train')\n",
    "    axes[0].plot(val_loss, label='validation')\n",
    "    axes[0].set_xlabel('Epoch')\n",
    "    axes[0].set_ylabel('Losses')\n",
    "    axes[0].legend()\n",
    "    \n",
    "    axes[1].plot(train_acc, label='train')\n",
    "    axes[1].plot(val_acc, label='validation')\n",
    "    axes[1].set_xlabel('Epoch')\n",
    "    axes[1].set_ylabel('Accuracy')\n",
    "    axes[1].legend()\n",
    "    \n",
    "    if save:\n",
    "        plt.savefig('3d_double_speed', dpi=150)"
   ]
  },
  {
   "cell_type": "code",
   "execution_count": 28,
   "id": "personal-running",
   "metadata": {
    "ExecuteTime": {
     "end_time": "2021-08-12T02:23:54.268409Z",
     "start_time": "2021-08-12T02:23:53.824961Z"
    }
   },
   "outputs": [
    {
     "data": {
      "image/png": "[encoded data removed]",
      "text/plain": [
       "<Figure size 1080x360 with 2 Axes>"
      ]
     },
     "metadata": {},
     "output_type": "display_data"
    }
   ],
   "source": [
    "plot_results(train_losses, valid_losses, train_accs, valid_accs, save=True)"
   ]
  },
  {
   "cell_type": "code",
   "execution_count": null,
   "id": "organized-cartoon",
   "metadata": {},
   "outputs": [],
   "source": []
  }
 ],
 "metadata": {
  "kernelspec": {
   "display_name": "Python 3",
   "language": "python",
   "name": "python3"
  },
  "language_info": {
   "codemirror_mode": {
    "name": "ipython",
    "version": 3
   },
   "file_extension": ".py",
   "mimetype": "text/x-python",
   "name": "python",
   "nbconvert_exporter": "python",
   "pygments_lexer": "ipython3",
   "version": "3.8.2"
  },
  "toc": {
   "base_numbering": 1,
   "nav_menu": {},
   "number_sections": true,
   "sideBar": true,
   "skip_h1_title": false,
   "title_cell": "Table of Contents",
   "title_sidebar": "Contents",
   "toc_cell": false,
   "toc_position": {},
   "toc_section_display": true,
   "toc_window_display": false
  },
  "varInspector": {
   "cols": {
    "lenName": 16,
    "lenType": 16,
    "lenVar": 40
   },
   "kernels_config": {
    "python": {
     "delete_cmd_postfix": "",
     "delete_cmd_prefix": "del ",
     "library": "var_list.py",
     "varRefreshCmd": "print(var_dic_list())"
    },
    "r": {
     "delete_cmd_postfix": ") ",
     "delete_cmd_prefix": "rm(",
     "library": "var_list.r",
     "varRefreshCmd": "cat(var_dic_list()) "
    }
   },
   "types_to_exclude": [
    "module",
    "function",
    "builtin_function_or_method",
    "instance",
    "_Feature"
   ],
   "window_display": false
  }
 },
 "nbformat": 4,
 "nbformat_minor": 5
}
