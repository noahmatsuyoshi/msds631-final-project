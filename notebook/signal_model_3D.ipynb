{
 "cells": [
  {
   "cell_type": "code",
   "execution_count": 24,
   "id": "foreign-commonwealth",
   "metadata": {
    "ExecuteTime": {
     "end_time": "2021-08-11T09:34:22.750058Z",
     "start_time": "2021-08-11T09:34:22.746821Z"
    }
   },
   "outputs": [],
   "source": [
    "import numpy as np\n",
    "import pandas as pd\n",
    "import torch\n",
    "from torch.utils.data import Dataset\n",
    "from torch.utils.data import DataLoader\n",
    "import torch.nn as nn\n",
    "import torch.optim as optim\n",
    "\n",
    "import torchvision\n",
    "\n",
    "from tqdm.notebook import tqdm\n",
    "import matplotlib.pyplot as plt"
   ]
  },
  {
   "cell_type": "code",
   "execution_count": 25,
   "id": "superior-point",
   "metadata": {
    "ExecuteTime": {
     "end_time": "2021-08-11T09:34:23.091665Z",
     "start_time": "2021-08-11T09:34:23.036011Z"
    }
   },
   "outputs": [
    {
     "data": {
      "text/html": [
       "<div>\n",
       "<style scoped>\n",
       "    .dataframe tbody tr th:only-of-type {\n",
       "        vertical-align: middle;\n",
       "    }\n",
       "\n",
       "    .dataframe tbody tr th {\n",
       "        vertical-align: top;\n",
       "    }\n",
       "\n",
       "    .dataframe thead th {\n",
       "        text-align: right;\n",
       "    }\n",
       "</style>\n",
       "<table border=\"1\" class=\"dataframe\">\n",
       "  <thead>\n",
       "    <tr style=\"text-align: right;\">\n",
       "      <th></th>\n",
       "      <th>Unnamed: 0</th>\n",
       "      <th>file_path</th>\n",
       "      <th>classid</th>\n",
       "    </tr>\n",
       "  </thead>\n",
       "  <tbody>\n",
       "    <tr>\n",
       "      <th>0</th>\n",
       "      <td>0</td>\n",
       "      <td>../data/UrbanSound8K/slices_2d/fold1/46654-6-0...</td>\n",
       "      <td>6</td>\n",
       "    </tr>\n",
       "    <tr>\n",
       "      <th>1</th>\n",
       "      <td>1</td>\n",
       "      <td>../data/UrbanSound8K/slices_2d/fold1/57320-0-0...</td>\n",
       "      <td>0</td>\n",
       "    </tr>\n",
       "    <tr>\n",
       "      <th>2</th>\n",
       "      <td>2</td>\n",
       "      <td>../data/UrbanSound8K/slices_2d/fold1/57320-0-0...</td>\n",
       "      <td>0</td>\n",
       "    </tr>\n",
       "    <tr>\n",
       "      <th>3</th>\n",
       "      <td>3</td>\n",
       "      <td>../data/UrbanSound8K/slices_2d/fold1/57320-0-0...</td>\n",
       "      <td>0</td>\n",
       "    </tr>\n",
       "    <tr>\n",
       "      <th>4</th>\n",
       "      <td>4</td>\n",
       "      <td>../data/UrbanSound8K/slices_2d/fold1/57320-0-0...</td>\n",
       "      <td>0</td>\n",
       "    </tr>\n",
       "  </tbody>\n",
       "</table>\n",
       "</div>"
      ],
      "text/plain": [
       "   Unnamed: 0                                          file_path  classid\n",
       "0           0  ../data/UrbanSound8K/slices_2d/fold1/46654-6-0...        6\n",
       "1           1  ../data/UrbanSound8K/slices_2d/fold1/57320-0-0...        0\n",
       "2           2  ../data/UrbanSound8K/slices_2d/fold1/57320-0-0...        0\n",
       "3           3  ../data/UrbanSound8K/slices_2d/fold1/57320-0-0...        0\n",
       "4           4  ../data/UrbanSound8K/slices_2d/fold1/57320-0-0...        0"
      ]
     },
     "execution_count": 25,
     "metadata": {},
     "output_type": "execute_result"
    }
   ],
   "source": [
    "df = pd.read_csv('../data/UrbanSound8K/slices_2d/slice_2d_filenames.csv')\n",
    "df.head()"
   ]
  },
  {
   "cell_type": "code",
   "execution_count": 26,
   "id": "imposed-brain",
   "metadata": {
    "ExecuteTime": {
     "end_time": "2021-08-11T09:34:23.499539Z",
     "start_time": "2021-08-11T09:34:23.495399Z"
    }
   },
   "outputs": [
    {
     "data": {
      "text/plain": [
       "10"
      ]
     },
     "execution_count": 26,
     "metadata": {},
     "output_type": "execute_result"
    }
   ],
   "source": [
    "len(df['classid'].unique())"
   ]
  },
  {
   "cell_type": "code",
   "execution_count": 27,
   "id": "rental-times",
   "metadata": {
    "ExecuteTime": {
     "end_time": "2021-08-11T09:34:23.954201Z",
     "start_time": "2021-08-11T09:34:23.868097Z"
    }
   },
   "outputs": [],
   "source": [
    "df['fold'] = [int(text[-2][-1]) for text in df['file_path'].str.split('/')]"
   ]
  },
  {
   "cell_type": "code",
   "execution_count": 28,
   "id": "honest-senator",
   "metadata": {
    "ExecuteTime": {
     "end_time": "2021-08-11T09:34:24.128091Z",
     "start_time": "2021-08-11T09:34:24.121435Z"
    }
   },
   "outputs": [
    {
     "data": {
      "text/html": [
       "<div>\n",
       "<style scoped>\n",
       "    .dataframe tbody tr th:only-of-type {\n",
       "        vertical-align: middle;\n",
       "    }\n",
       "\n",
       "    .dataframe tbody tr th {\n",
       "        vertical-align: top;\n",
       "    }\n",
       "\n",
       "    .dataframe thead th {\n",
       "        text-align: right;\n",
       "    }\n",
       "</style>\n",
       "<table border=\"1\" class=\"dataframe\">\n",
       "  <thead>\n",
       "    <tr style=\"text-align: right;\">\n",
       "      <th></th>\n",
       "      <th>Unnamed: 0</th>\n",
       "      <th>file_path</th>\n",
       "      <th>classid</th>\n",
       "      <th>fold</th>\n",
       "    </tr>\n",
       "  </thead>\n",
       "  <tbody>\n",
       "    <tr>\n",
       "      <th>0</th>\n",
       "      <td>0</td>\n",
       "      <td>../data/UrbanSound8K/slices_2d/fold1/46654-6-0...</td>\n",
       "      <td>6</td>\n",
       "      <td>1</td>\n",
       "    </tr>\n",
       "    <tr>\n",
       "      <th>1</th>\n",
       "      <td>1</td>\n",
       "      <td>../data/UrbanSound8K/slices_2d/fold1/57320-0-0...</td>\n",
       "      <td>0</td>\n",
       "      <td>1</td>\n",
       "    </tr>\n",
       "    <tr>\n",
       "      <th>2</th>\n",
       "      <td>2</td>\n",
       "      <td>../data/UrbanSound8K/slices_2d/fold1/57320-0-0...</td>\n",
       "      <td>0</td>\n",
       "      <td>1</td>\n",
       "    </tr>\n",
       "    <tr>\n",
       "      <th>3</th>\n",
       "      <td>3</td>\n",
       "      <td>../data/UrbanSound8K/slices_2d/fold1/57320-0-0...</td>\n",
       "      <td>0</td>\n",
       "      <td>1</td>\n",
       "    </tr>\n",
       "    <tr>\n",
       "      <th>4</th>\n",
       "      <td>4</td>\n",
       "      <td>../data/UrbanSound8K/slices_2d/fold1/57320-0-0...</td>\n",
       "      <td>0</td>\n",
       "      <td>1</td>\n",
       "    </tr>\n",
       "  </tbody>\n",
       "</table>\n",
       "</div>"
      ],
      "text/plain": [
       "   Unnamed: 0                                          file_path  classid  \\\n",
       "0           0  ../data/UrbanSound8K/slices_2d/fold1/46654-6-0...        6   \n",
       "1           1  ../data/UrbanSound8K/slices_2d/fold1/57320-0-0...        0   \n",
       "2           2  ../data/UrbanSound8K/slices_2d/fold1/57320-0-0...        0   \n",
       "3           3  ../data/UrbanSound8K/slices_2d/fold1/57320-0-0...        0   \n",
       "4           4  ../data/UrbanSound8K/slices_2d/fold1/57320-0-0...        0   \n",
       "\n",
       "   fold  \n",
       "0     1  \n",
       "1     1  \n",
       "2     1  \n",
       "3     1  \n",
       "4     1  "
      ]
     },
     "execution_count": 28,
     "metadata": {},
     "output_type": "execute_result"
    }
   ],
   "source": [
    "df.head()"
   ]
  },
  {
   "cell_type": "code",
   "execution_count": 29,
   "id": "dressed-photography",
   "metadata": {
    "ExecuteTime": {
     "end_time": "2021-08-11T09:34:24.540370Z",
     "start_time": "2021-08-11T09:34:24.536482Z"
    }
   },
   "outputs": [],
   "source": [
    "class UrbanSoundDataset(Dataset):\n",
    "    def __init__(self, df):\n",
    "        self.df = df\n",
    "    \n",
    "    def __len__(self):\n",
    "        return len(self.df)\n",
    "    \n",
    "    def __getitem__(self, idx):\n",
    "        row = self.df.iloc[idx]\n",
    "        x = np.load(row['file_path'])\n",
    "        x = torch.tensor(x).float()\n",
    "        y = torch.tensor(row['classid'])\n",
    "        return x, y\n",
    "        "
   ]
  },
  {
   "cell_type": "code",
   "execution_count": 30,
   "id": "written-basin",
   "metadata": {
    "ExecuteTime": {
     "end_time": "2021-08-11T09:34:25.060987Z",
     "start_time": "2021-08-11T09:34:25.054577Z"
    }
   },
   "outputs": [],
   "source": [
    "df_train = df[df['fold'] < 8]"
   ]
  },
  {
   "cell_type": "code",
   "execution_count": 31,
   "id": "portable-ireland",
   "metadata": {
    "ExecuteTime": {
     "end_time": "2021-08-11T09:34:25.436160Z",
     "start_time": "2021-08-11T09:34:25.425021Z"
    }
   },
   "outputs": [],
   "source": [
    "df_val = df.drop(df_train.index)"
   ]
  },
  {
   "cell_type": "code",
   "execution_count": 32,
   "id": "electric-prescription",
   "metadata": {
    "ExecuteTime": {
     "end_time": "2021-08-11T09:34:25.737087Z",
     "start_time": "2021-08-11T09:34:25.733572Z"
    }
   },
   "outputs": [
    {
     "data": {
      "text/plain": [
       "(36175, 8100, 44275)"
      ]
     },
     "execution_count": 32,
     "metadata": {},
     "output_type": "execute_result"
    }
   ],
   "source": [
    "df_train.shape[0], df_val.shape[0], df.shape[0]"
   ]
  },
  {
   "cell_type": "code",
   "execution_count": 33,
   "id": "agricultural-mirror",
   "metadata": {
    "ExecuteTime": {
     "end_time": "2021-08-11T09:34:26.191394Z",
     "start_time": "2021-08-11T09:34:26.188292Z"
    }
   },
   "outputs": [],
   "source": [
    "ds_train = UrbanSoundDataset(df_train)\n",
    "ds_val = UrbanSoundDataset(df_val)\n",
    "dl_train = DataLoader(ds_train, batch_size=1000, shuffle=True)\n",
    "dl_val = DataLoader(ds_train, batch_size=500, shuffle=False)"
   ]
  },
  {
   "cell_type": "code",
   "execution_count": 41,
   "id": "imposed-advertiser",
   "metadata": {
    "ExecuteTime": {
     "end_time": "2021-08-11T09:35:36.072708Z",
     "start_time": "2021-08-11T09:35:36.066155Z"
    }
   },
   "outputs": [],
   "source": [
    "class CNN(nn.Module):\n",
    "    def __init__(self):\n",
    "        super().__init__()\n",
    "        \n",
    "        # same padding!\n",
    "        self.conv1 = nn.Conv2d(in_channels=32, out_channels=64, kernel_size=2, padding=1)\n",
    "        self.conv2 = nn.Conv2d(in_channels=64, out_channels=128, kernel_size=2, padding=1)\n",
    "        \n",
    "        self.linear1 = nn.Linear(512, 100)\n",
    "        self.linear2 = nn.Linear(100, 10)\n",
    "        \n",
    "        self.pool = nn.MaxPool2d(kernel_size=2)\n",
    "        self.relu = nn.ReLU()\n",
    "        self.tanh = nn.Tanh()\n",
    "        self.flatten = nn.Flatten()\n",
    "        \n",
    "        self.dropout = nn.Dropout2d(p=0.2)\n",
    "        \n",
    "        \n",
    "    def forward(self, x):\n",
    "        # helpful to do this along the way sometimes!\n",
    "        #print(x.shape)\n",
    "        \n",
    "        x = self.conv1(x)\n",
    "        x = self.tanh(x)\n",
    "        x = self.pool(x)\n",
    "        \n",
    "        x = self.conv2(x)\n",
    "        x = self.tanh(x)\n",
    "        x = self.pool(x)\n",
    "\n",
    "        x = self.dropout(x)\n",
    "        x = self.flatten(x)\n",
    "        \n",
    "        # unroll x for FC layer\n",
    "        x = self.linear1(self.flatten(x))\n",
    "        x = self.relu(x)\n",
    "        x = self.linear2(x)\n",
    "        \n",
    "        return x"
   ]
  },
  {
   "cell_type": "code",
   "execution_count": 42,
   "id": "strategic-parker",
   "metadata": {
    "ExecuteTime": {
     "end_time": "2021-08-11T09:35:36.554464Z",
     "start_time": "2021-08-11T09:35:36.546239Z"
    }
   },
   "outputs": [
    {
     "name": "stdout",
     "output_type": "stream",
     "text": [
      "----------------------------------------------------------------\n",
      "        Layer (type)               Output Shape         Param #\n",
      "================================================================\n",
      "            Conv2d-1            [-1, 64, 17, 3]           8,256\n",
      "              Tanh-2            [-1, 64, 17, 3]               0\n",
      "         MaxPool2d-3             [-1, 64, 8, 1]               0\n",
      "            Conv2d-4            [-1, 128, 9, 2]          32,896\n",
      "              Tanh-5            [-1, 128, 9, 2]               0\n",
      "         MaxPool2d-6            [-1, 128, 4, 1]               0\n",
      "         Dropout2d-7            [-1, 128, 4, 1]               0\n",
      "           Flatten-8                  [-1, 512]               0\n",
      "           Flatten-9                  [-1, 512]               0\n",
      "           Linear-10                  [-1, 100]          51,300\n",
      "             ReLU-11                  [-1, 100]               0\n",
      "           Linear-12                   [-1, 10]           1,010\n",
      "================================================================\n",
      "Total params: 93,462\n",
      "Trainable params: 93,462\n",
      "Non-trainable params: 0\n",
      "----------------------------------------------------------------\n",
      "Input size (MB): 0.00\n",
      "Forward/backward pass size (MB): 0.11\n",
      "Params size (MB): 0.36\n",
      "Estimated Total Size (MB): 0.47\n",
      "----------------------------------------------------------------\n"
     ]
    }
   ],
   "source": [
    "model = CNN()\n",
    "from torchsummary import summary\n",
    "summary(model, input_size = (32, 16, 2), device='cpu')"
   ]
  },
  {
   "cell_type": "code",
   "execution_count": 51,
   "id": "based-croatia",
   "metadata": {
    "ExecuteTime": {
     "end_time": "2021-08-11T09:41:55.910128Z",
     "start_time": "2021-08-11T09:41:55.904196Z"
    }
   },
   "outputs": [],
   "source": [
    "def one_pass(model, dataloader, optimizer, lossFun, backwards=True, print_loss=False):\n",
    "    \n",
    "    if backwards == True:\n",
    "        model.train()\n",
    "    else:\n",
    "        model.eval()\n",
    "    \n",
    "    total_loss = 0.0\n",
    "    for x, y in tqdm(dataloader):\n",
    "        \n",
    "        y_pred = model(x)\n",
    "        loss = lossFun(y_pred, y)\n",
    "        total_loss += loss.item()\n",
    "        \n",
    "        if backwards == True:\n",
    "            optimizer.zero_grad()\n",
    "            loss.backward()\n",
    "            optimizer.step()\n",
    "    avg_loss = total_loss / len(dataloader)\n",
    "    \n",
    "    if print_loss == True:\n",
    "        print(avg_loss)\n",
    "    \n",
    "    return avg_loss\n",
    "\n",
    "def one_pass_acc(model, dataloader, num_points):\n",
    "    model.eval()\n",
    "    total_acc = []\n",
    "    \n",
    "    softmax = nn.Softmax(dim=1)\n",
    "    \n",
    "    for x, y in dataloader:\n",
    "        y_pred = softmax(model(x))\n",
    "        y_pred = torch.argmax(y_pred, dim=1)\n",
    "        \n",
    "        acc = 1 - (torch.count_nonzero(y - y_pred).item() / y.shape[0])\n",
    "        \n",
    "        total_acc.append(acc)\n",
    "        \n",
    "    return round(np.mean(total_acc),2)"
   ]
  },
  {
   "cell_type": "code",
   "execution_count": 52,
   "id": "mexican-spoke",
   "metadata": {
    "ExecuteTime": {
     "end_time": "2021-08-11T09:41:56.118033Z",
     "start_time": "2021-08-11T09:41:56.112769Z"
    }
   },
   "outputs": [],
   "source": [
    "from tqdm.notebook import tqdm\n",
    "def train_epoch(num_epochs, model, dl_train, dl_val, optimizer, lossFun, ds_train, ds_val):\n",
    "    train_losses = []\n",
    "    valid_losses = []\n",
    "    train_accs = []\n",
    "    valid_accs = []\n",
    "\n",
    "    for epoch in tqdm(range(num_epochs)):\n",
    "        print('Epoch: ', epoch)\n",
    "\n",
    "        train_loss = one_pass(model, dl_train, optimizer, lossFun)\n",
    "        train_losses.append(train_loss)\n",
    "        print('Train loss: ', train_loss)\n",
    "\n",
    "        valid_loss = one_pass(model, dl_val, optimizer, lossFun, backwards=False)\n",
    "        valid_losses.append(valid_loss)\n",
    "        print('Valid loss: ', valid_loss)\n",
    "\n",
    "        train_acc = one_pass_acc(model, dl_train, len(ds_train))\n",
    "        train_accs.append(train_acc)\n",
    "        valid_acc = one_pass_acc(model, dl_val, len(ds_val))\n",
    "        valid_accs.append(valid_acc)\n",
    "        print('Train Acc: ', train_acc)\n",
    "        print('Valid Acc: ', valid_acc)\n",
    "    \n",
    "    return train_losses, valid_losses, train_accs, valid_accs\n",
    "    "
   ]
  },
  {
   "cell_type": "code",
   "execution_count": 53,
   "id": "selective-astrology",
   "metadata": {
    "ExecuteTime": {
     "end_time": "2021-08-11T09:41:56.357414Z",
     "start_time": "2021-08-11T09:41:56.355012Z"
    }
   },
   "outputs": [],
   "source": [
    "import seaborn as sns"
   ]
  },
  {
   "cell_type": "code",
   "execution_count": 58,
   "id": "wrong-pickup",
   "metadata": {
    "ExecuteTime": {
     "end_time": "2021-08-11T09:47:19.988303Z",
     "start_time": "2021-08-11T09:47:19.983906Z"
    }
   },
   "outputs": [],
   "source": [
    "def plot_results(train_loss, val_loss, train_acc, val_acc):\n",
    "    sns.set_theme()\n",
    "    fig, axes = plt.subplots(1,2, figsize=(15,5))\n",
    "    axes[0].plot(train_loss, label='train')\n",
    "    axes[0].plot(val_loss, label='validation')\n",
    "    axes[0].set_xlabel('Epoch')\n",
    "    axes[0].set_ylabel('Losses')\n",
    "    axes[0].legend()\n",
    "    \n",
    "    axes[1].plot(train_acc, label='train')\n",
    "    axes[1].plot(val_acc, label='validation')\n",
    "    axes[1].set_xlabel('Epoch')\n",
    "    axes[1].set_ylabel('Accuracy')\n",
    "    axes[1].legend()\n",
    "\n",
    "    plt.show()"
   ]
  },
  {
   "cell_type": "code",
   "execution_count": 55,
   "id": "czech-spank",
   "metadata": {
    "ExecuteTime": {
     "end_time": "2021-08-11T09:41:57.158532Z",
     "start_time": "2021-08-11T09:41:57.155470Z"
    }
   },
   "outputs": [],
   "source": [
    "ds_train = UrbanSoundDataset(df_train)\n",
    "ds_val = UrbanSoundDataset(df_val)\n",
    "dl_train = DataLoader(ds_train, batch_size=100, shuffle=True)\n",
    "dl_val = DataLoader(ds_val, batch_size=50, shuffle=False)"
   ]
  },
  {
   "cell_type": "code",
   "execution_count": 56,
   "id": "distinguished-statement",
   "metadata": {
    "ExecuteTime": {
     "end_time": "2021-08-11T09:46:07.530541Z",
     "start_time": "2021-08-11T09:41:57.719783Z"
    }
   },
   "outputs": [
    {
     "data": {
      "application/vnd.jupyter.widget-view+json": {
       "model_id": "8044b131ffda4c5eb7239e4bc849dc0d",
       "version_major": 2,
       "version_minor": 0
      },
      "text/plain": [
       "  0%|          | 0/3 [00:00<?, ?it/s]"
      ]
     },
     "metadata": {},
     "output_type": "display_data"
    },
    {
     "name": "stdout",
     "output_type": "stream",
     "text": [
      "Epoch:  0\n"
     ]
    },
    {
     "data": {
      "application/vnd.jupyter.widget-view+json": {
       "model_id": "b7552de9dda64f6a946f81ee11660a40",
       "version_major": 2,
       "version_minor": 0
      },
      "text/plain": [
       "  0%|          | 0/362 [00:00<?, ?it/s]"
      ]
     },
     "metadata": {},
     "output_type": "display_data"
    },
    {
     "name": "stdout",
     "output_type": "stream",
     "text": [
      "Train loss:  2.0676258555433367\n"
     ]
    },
    {
     "data": {
      "application/vnd.jupyter.widget-view+json": {
       "model_id": "832e984de2694546a8132f63b56c12f5",
       "version_major": 2,
       "version_minor": 0
      },
      "text/plain": [
       "  0%|          | 0/162 [00:00<?, ?it/s]"
      ]
     },
     "metadata": {},
     "output_type": "display_data"
    },
    {
     "name": "stdout",
     "output_type": "stream",
     "text": [
      "Valid loss:  1.7516696298563923\n",
      "Train Acc:  0.36\n",
      "Valid Acc:  0.35\n",
      "Epoch:  1\n"
     ]
    },
    {
     "data": {
      "application/vnd.jupyter.widget-view+json": {
       "model_id": "1a9d07006c044e2e95b464a2d1628ec9",
       "version_major": 2,
       "version_minor": 0
      },
      "text/plain": [
       "  0%|          | 0/362 [00:00<?, ?it/s]"
      ]
     },
     "metadata": {},
     "output_type": "display_data"
    },
    {
     "name": "stdout",
     "output_type": "stream",
     "text": [
      "Train loss:  1.6795445618049873\n"
     ]
    },
    {
     "data": {
      "application/vnd.jupyter.widget-view+json": {
       "model_id": "65a5ec5fdaae430b8d30e69bbc2d28d5",
       "version_major": 2,
       "version_minor": 0
      },
      "text/plain": [
       "  0%|          | 0/162 [00:00<?, ?it/s]"
      ]
     },
     "metadata": {},
     "output_type": "display_data"
    },
    {
     "name": "stdout",
     "output_type": "stream",
     "text": [
      "Valid loss:  1.6568081025724057\n",
      "Train Acc:  0.43\n",
      "Valid Acc:  0.37\n",
      "Epoch:  2\n"
     ]
    },
    {
     "data": {
      "application/vnd.jupyter.widget-view+json": {
       "model_id": "7d838133f6c34551a6e77381e24d13a7",
       "version_major": 2,
       "version_minor": 0
      },
      "text/plain": [
       "  0%|          | 0/362 [00:00<?, ?it/s]"
      ]
     },
     "metadata": {},
     "output_type": "display_data"
    },
    {
     "name": "stdout",
     "output_type": "stream",
     "text": [
      "Train loss:  1.5599729422047652\n"
     ]
    },
    {
     "data": {
      "application/vnd.jupyter.widget-view+json": {
       "model_id": "1a208e5f736444319c8c0f68ef8f7739",
       "version_major": 2,
       "version_minor": 0
      },
      "text/plain": [
       "  0%|          | 0/162 [00:00<?, ?it/s]"
      ]
     },
     "metadata": {},
     "output_type": "display_data"
    },
    {
     "name": "stdout",
     "output_type": "stream",
     "text": [
      "Valid loss:  1.6767073689419547\n",
      "Train Acc:  0.45\n",
      "Valid Acc:  0.36\n"
     ]
    }
   ],
   "source": [
    "num_epoch = 3\n",
    "model = CNN()\n",
    "dl_train = dl_train\n",
    "dl_val = dl_val\n",
    "optimizer = torch.optim.AdamW(model.parameters(), lr=0.0001)\n",
    "lossFun = nn.CrossEntropyLoss()\n",
    "ds_train = ds_train\n",
    "ds_val = ds_val\n",
    "\n",
    "train_losses, valid_losses, train_accs, valid_accs = train_epoch(num_epoch, model, dl_train, dl_val, optimizer, lossFun, ds_train, ds_val)"
   ]
  },
  {
   "cell_type": "code",
   "execution_count": 59,
   "id": "reduced-villa",
   "metadata": {
    "ExecuteTime": {
     "end_time": "2021-08-11T09:47:23.638431Z",
     "start_time": "2021-08-11T09:47:23.344726Z"
    }
   },
   "outputs": [
    {
     "data": {
      "image/png": "[encoded data removed]",
      "text/plain": [
       "<Figure size 1080x360 with 2 Axes>"
      ]
     },
     "metadata": {},
     "output_type": "display_data"
    }
   ],
   "source": [
    "plot_results(train_losses, valid_losses, train_accs, valid_accs)"
   ]
  },
  {
   "cell_type": "code",
   "execution_count": null,
   "id": "urban-alaska",
   "metadata": {},
   "outputs": [],
   "source": []
  },
  {
   "cell_type": "code",
   "execution_count": null,
   "id": "extraordinary-syndicate",
   "metadata": {},
   "outputs": [],
   "source": []
  },
  {
   "cell_type": "code",
   "execution_count": null,
   "id": "vanilla-memphis",
   "metadata": {},
   "outputs": [],
   "source": []
  }
 ],
 "metadata": {
  "kernelspec": {
   "display_name": "Python 3",
   "language": "python",
   "name": "python3"
  },
  "language_info": {
   "codemirror_mode": {
    "name": "ipython",
    "version": 3
   },
   "file_extension": ".py",
   "mimetype": "text/x-python",
   "name": "python",
   "nbconvert_exporter": "python",
   "pygments_lexer": "ipython3",
   "version": "3.8.2"
  },
  "toc": {
   "base_numbering": 1,
   "nav_menu": {},
   "number_sections": true,
   "sideBar": true,
   "skip_h1_title": false,
   "title_cell": "Table of Contents",
   "title_sidebar": "Contents",
   "toc_cell": false,
   "toc_position": {},
   "toc_section_display": true,
   "toc_window_display": false
  },
  "varInspector": {
   "cols": {
    "lenName": 16,
    "lenType": 16,
    "lenVar": 40
   },
   "kernels_config": {
    "python": {
     "delete_cmd_postfix": "",
     "delete_cmd_prefix": "del ",
     "library": "var_list.py",
     "varRefreshCmd": "print(var_dic_list())"
    },
    "r": {
     "delete_cmd_postfix": ") ",
     "delete_cmd_prefix": "rm(",
     "library": "var_list.r",
     "varRefreshCmd": "cat(var_dic_list()) "
    }
   },
   "types_to_exclude": [
    "module",
    "function",
    "builtin_function_or_method",
    "instance",
    "_Feature"
   ],
   "window_display": false
  }
 },
 "nbformat": 4,
 "nbformat_minor": 5
}
