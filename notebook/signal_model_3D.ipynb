{
 "cells": [
  {
   "cell_type": "code",
   "execution_count": 1,
   "id": "another-solomon",
   "metadata": {
    "ExecuteTime": {
     "end_time": "2021-08-12T00:57:40.141847Z",
     "start_time": "2021-08-12T00:57:37.682762Z"
    }
   },
   "outputs": [],
   "source": [
    "import numpy as np\n",
    "import pandas as pd\n",
    "import torch\n",
    "from torch.utils.data import Dataset\n",
    "from torch.utils.data import DataLoader\n",
    "import torch.nn as nn\n",
    "import torch.optim as optim\n",
    "\n",
    "import torchvision\n",
    "\n",
    "from tqdm.notebook import tqdm\n",
    "import matplotlib.pyplot as plt"
   ]
  },
  {
   "cell_type": "code",
   "execution_count": 2,
   "id": "authorized-linux",
   "metadata": {
    "ExecuteTime": {
     "end_time": "2021-08-12T00:57:40.199058Z",
     "start_time": "2021-08-12T00:57:40.143864Z"
    }
   },
   "outputs": [
    {
     "data": {
      "text/html": [
       "<div>\n",
       "<style scoped>\n",
       "    .dataframe tbody tr th:only-of-type {\n",
       "        vertical-align: middle;\n",
       "    }\n",
       "\n",
       "    .dataframe tbody tr th {\n",
       "        vertical-align: top;\n",
       "    }\n",
       "\n",
       "    .dataframe thead th {\n",
       "        text-align: right;\n",
       "    }\n",
       "</style>\n",
       "<table border=\"1\" class=\"dataframe\">\n",
       "  <thead>\n",
       "    <tr style=\"text-align: right;\">\n",
       "      <th></th>\n",
       "      <th>Unnamed: 0</th>\n",
       "      <th>file_path</th>\n",
       "      <th>classid</th>\n",
       "    </tr>\n",
       "  </thead>\n",
       "  <tbody>\n",
       "    <tr>\n",
       "      <th>0</th>\n",
       "      <td>0</td>\n",
       "      <td>../data/UrbanSound8K/slices_2d/fold1/46654-6-0...</td>\n",
       "      <td>6</td>\n",
       "    </tr>\n",
       "    <tr>\n",
       "      <th>1</th>\n",
       "      <td>1</td>\n",
       "      <td>../data/UrbanSound8K/slices_2d/fold1/57320-0-0...</td>\n",
       "      <td>0</td>\n",
       "    </tr>\n",
       "    <tr>\n",
       "      <th>2</th>\n",
       "      <td>2</td>\n",
       "      <td>../data/UrbanSound8K/slices_2d/fold1/57320-0-0...</td>\n",
       "      <td>0</td>\n",
       "    </tr>\n",
       "    <tr>\n",
       "      <th>3</th>\n",
       "      <td>3</td>\n",
       "      <td>../data/UrbanSound8K/slices_2d/fold1/57320-0-0...</td>\n",
       "      <td>0</td>\n",
       "    </tr>\n",
       "    <tr>\n",
       "      <th>4</th>\n",
       "      <td>4</td>\n",
       "      <td>../data/UrbanSound8K/slices_2d/fold1/57320-0-0...</td>\n",
       "      <td>0</td>\n",
       "    </tr>\n",
       "  </tbody>\n",
       "</table>\n",
       "</div>"
      ],
      "text/plain": [
       "   Unnamed: 0                                          file_path  classid\n",
       "0           0  ../data/UrbanSound8K/slices_2d/fold1/46654-6-0...        6\n",
       "1           1  ../data/UrbanSound8K/slices_2d/fold1/57320-0-0...        0\n",
       "2           2  ../data/UrbanSound8K/slices_2d/fold1/57320-0-0...        0\n",
       "3           3  ../data/UrbanSound8K/slices_2d/fold1/57320-0-0...        0\n",
       "4           4  ../data/UrbanSound8K/slices_2d/fold1/57320-0-0...        0"
      ]
     },
     "execution_count": 2,
     "metadata": {},
     "output_type": "execute_result"
    }
   ],
   "source": [
    "df = pd.read_csv('../data/UrbanSound8K/slices_2d/slice_2d_filenames.csv')\n",
    "df.head()"
   ]
  },
  {
   "cell_type": "code",
   "execution_count": 3,
   "id": "representative-contribution",
   "metadata": {
    "ExecuteTime": {
     "end_time": "2021-08-12T00:57:40.204740Z",
     "start_time": "2021-08-12T00:57:40.200804Z"
    }
   },
   "outputs": [
    {
     "data": {
      "text/plain": [
       "10"
      ]
     },
     "execution_count": 3,
     "metadata": {},
     "output_type": "execute_result"
    }
   ],
   "source": [
    "len(df['classid'].unique())"
   ]
  },
  {
   "cell_type": "code",
   "execution_count": 4,
   "id": "union-desktop",
   "metadata": {
    "ExecuteTime": {
     "end_time": "2021-08-12T00:57:40.288470Z",
     "start_time": "2021-08-12T00:57:40.206492Z"
    }
   },
   "outputs": [],
   "source": [
    "df['fold'] = [int(text[-2][-1]) for text in df['file_path'].str.split('/')]"
   ]
  },
  {
   "cell_type": "code",
   "execution_count": 5,
   "id": "addressed-prefix",
   "metadata": {
    "ExecuteTime": {
     "end_time": "2021-08-12T00:57:40.297436Z",
     "start_time": "2021-08-12T00:57:40.290202Z"
    }
   },
   "outputs": [
    {
     "data": {
      "text/html": [
       "<div>\n",
       "<style scoped>\n",
       "    .dataframe tbody tr th:only-of-type {\n",
       "        vertical-align: middle;\n",
       "    }\n",
       "\n",
       "    .dataframe tbody tr th {\n",
       "        vertical-align: top;\n",
       "    }\n",
       "\n",
       "    .dataframe thead th {\n",
       "        text-align: right;\n",
       "    }\n",
       "</style>\n",
       "<table border=\"1\" class=\"dataframe\">\n",
       "  <thead>\n",
       "    <tr style=\"text-align: right;\">\n",
       "      <th></th>\n",
       "      <th>Unnamed: 0</th>\n",
       "      <th>file_path</th>\n",
       "      <th>classid</th>\n",
       "      <th>fold</th>\n",
       "    </tr>\n",
       "  </thead>\n",
       "  <tbody>\n",
       "    <tr>\n",
       "      <th>0</th>\n",
       "      <td>0</td>\n",
       "      <td>../data/UrbanSound8K/slices_2d/fold1/46654-6-0...</td>\n",
       "      <td>6</td>\n",
       "      <td>1</td>\n",
       "    </tr>\n",
       "    <tr>\n",
       "      <th>1</th>\n",
       "      <td>1</td>\n",
       "      <td>../data/UrbanSound8K/slices_2d/fold1/57320-0-0...</td>\n",
       "      <td>0</td>\n",
       "      <td>1</td>\n",
       "    </tr>\n",
       "    <tr>\n",
       "      <th>2</th>\n",
       "      <td>2</td>\n",
       "      <td>../data/UrbanSound8K/slices_2d/fold1/57320-0-0...</td>\n",
       "      <td>0</td>\n",
       "      <td>1</td>\n",
       "    </tr>\n",
       "    <tr>\n",
       "      <th>3</th>\n",
       "      <td>3</td>\n",
       "      <td>../data/UrbanSound8K/slices_2d/fold1/57320-0-0...</td>\n",
       "      <td>0</td>\n",
       "      <td>1</td>\n",
       "    </tr>\n",
       "    <tr>\n",
       "      <th>4</th>\n",
       "      <td>4</td>\n",
       "      <td>../data/UrbanSound8K/slices_2d/fold1/57320-0-0...</td>\n",
       "      <td>0</td>\n",
       "      <td>1</td>\n",
       "    </tr>\n",
       "  </tbody>\n",
       "</table>\n",
       "</div>"
      ],
      "text/plain": [
       "   Unnamed: 0                                          file_path  classid  \\\n",
       "0           0  ../data/UrbanSound8K/slices_2d/fold1/46654-6-0...        6   \n",
       "1           1  ../data/UrbanSound8K/slices_2d/fold1/57320-0-0...        0   \n",
       "2           2  ../data/UrbanSound8K/slices_2d/fold1/57320-0-0...        0   \n",
       "3           3  ../data/UrbanSound8K/slices_2d/fold1/57320-0-0...        0   \n",
       "4           4  ../data/UrbanSound8K/slices_2d/fold1/57320-0-0...        0   \n",
       "\n",
       "   fold  \n",
       "0     1  \n",
       "1     1  \n",
       "2     1  \n",
       "3     1  \n",
       "4     1  "
      ]
     },
     "execution_count": 5,
     "metadata": {},
     "output_type": "execute_result"
    }
   ],
   "source": [
    "df.head()"
   ]
  },
  {
   "cell_type": "code",
   "execution_count": 6,
   "id": "educational-future",
   "metadata": {
    "ExecuteTime": {
     "end_time": "2021-08-12T00:57:40.305071Z",
     "start_time": "2021-08-12T00:57:40.301361Z"
    }
   },
   "outputs": [],
   "source": [
    "class UrbanSoundDataset(Dataset):\n",
    "    def __init__(self, df):\n",
    "        self.df = df\n",
    "    \n",
    "    def __len__(self):\n",
    "        return len(self.df)\n",
    "    \n",
    "    def __getitem__(self, idx):\n",
    "        row = self.df.iloc[idx]\n",
    "        x = np.load(row['file_path'])\n",
    "        x = torch.tensor(x).float()\n",
    "        y = torch.tensor(row['classid'])\n",
    "        return x, y\n",
    "        "
   ]
  },
  {
   "cell_type": "code",
   "execution_count": 7,
   "id": "novel-saying",
   "metadata": {
    "ExecuteTime": {
     "end_time": "2021-08-12T00:57:40.332141Z",
     "start_time": "2021-08-12T00:57:40.308009Z"
    }
   },
   "outputs": [],
   "source": [
    "df_train = df[df['fold'] < 8]"
   ]
  },
  {
   "cell_type": "code",
   "execution_count": 8,
   "id": "severe-bristol",
   "metadata": {
    "ExecuteTime": {
     "end_time": "2021-08-12T00:57:40.345068Z",
     "start_time": "2021-08-12T00:57:40.333913Z"
    }
   },
   "outputs": [],
   "source": [
    "df_val = df.drop(df_train.index)"
   ]
  },
  {
   "cell_type": "code",
   "execution_count": 9,
   "id": "missing-verification",
   "metadata": {
    "ExecuteTime": {
     "end_time": "2021-08-12T00:57:40.351946Z",
     "start_time": "2021-08-12T00:57:40.347045Z"
    }
   },
   "outputs": [
    {
     "data": {
      "text/plain": [
       "(36175, 8100, 44275)"
      ]
     },
     "execution_count": 9,
     "metadata": {},
     "output_type": "execute_result"
    }
   ],
   "source": [
    "df_train.shape[0], df_val.shape[0], df.shape[0]"
   ]
  },
  {
   "cell_type": "code",
   "execution_count": 10,
   "id": "latest-waterproof",
   "metadata": {
    "ExecuteTime": {
     "end_time": "2021-08-12T00:57:40.357706Z",
     "start_time": "2021-08-12T00:57:40.354110Z"
    }
   },
   "outputs": [],
   "source": [
    "ds_train = UrbanSoundDataset(df_train)\n",
    "ds_val = UrbanSoundDataset(df_val)\n",
    "dl_train = DataLoader(ds_train, batch_size=1000, shuffle=True)\n",
    "dl_val = DataLoader(ds_train, batch_size=500, shuffle=False)"
   ]
  },
  {
   "cell_type": "code",
   "execution_count": 11,
   "id": "eligible-teacher",
   "metadata": {
    "ExecuteTime": {
     "end_time": "2021-08-12T00:57:40.367178Z",
     "start_time": "2021-08-12T00:57:40.360860Z"
    }
   },
   "outputs": [
    {
     "data": {
      "text/plain": [
       "torch.Size([32, 16, 2])"
      ]
     },
     "execution_count": 11,
     "metadata": {},
     "output_type": "execute_result"
    }
   ],
   "source": [
    "next(iter(ds_train))[0].shape"
   ]
  },
  {
   "cell_type": "code",
   "execution_count": 12,
   "id": "subjective-allergy",
   "metadata": {
    "ExecuteTime": {
     "end_time": "2021-08-12T00:57:40.376395Z",
     "start_time": "2021-08-12T00:57:40.369478Z"
    }
   },
   "outputs": [],
   "source": [
    "class CNN(nn.Module):\n",
    "    def __init__(self):\n",
    "        super().__init__()\n",
    "\n",
    "        self.conv1 = nn.Conv2d(in_channels=32, out_channels=64, kernel_size=2, padding=1)\n",
    "        self.conv2 = nn.Conv2d(in_channels=64, out_channels=128, kernel_size=2, padding=1)\n",
    "        \n",
    "        self.linear1 = nn.Linear(512, 100)\n",
    "        self.linear2 = nn.Linear(100, 10)\n",
    "        \n",
    "        self.pool = nn.MaxPool2d(kernel_size=2)\n",
    "        self.relu = nn.ReLU()\n",
    "        self.tanh = nn.Tanh()\n",
    "        self.flatten = nn.Flatten()\n",
    "        \n",
    "        self.dropout = nn.Dropout2d(p=0.2)\n",
    "        \n",
    "        \n",
    "    def forward(self, x):\n",
    "        # helpful to do this along the way sometimes!\n",
    "        #print(x.shape)\n",
    "        \n",
    "        x = self.conv1(x)\n",
    "        x = self.tanh(x)\n",
    "        x = self.pool(x)\n",
    "        \n",
    "        x = self.conv2(x)\n",
    "        x = self.tanh(x)\n",
    "        x = self.pool(x)\n",
    "\n",
    "        x = self.dropout(x)\n",
    "        x = self.flatten(x)\n",
    "        \n",
    "        # unroll x for FC layer\n",
    "        x = self.linear1(self.flatten(x))\n",
    "        x = self.relu(x)\n",
    "        x = self.linear2(x)\n",
    "        \n",
    "        return x"
   ]
  },
  {
   "cell_type": "code",
   "execution_count": 13,
   "id": "biblical-south",
   "metadata": {
    "ExecuteTime": {
     "end_time": "2021-08-12T00:57:40.495785Z",
     "start_time": "2021-08-12T00:57:40.379356Z"
    }
   },
   "outputs": [
    {
     "name": "stdout",
     "output_type": "stream",
     "text": [
      "----------------------------------------------------------------\n",
      "        Layer (type)               Output Shape         Param #\n",
      "================================================================\n",
      "            Conv2d-1            [-1, 64, 17, 3]           8,256\n",
      "              Tanh-2            [-1, 64, 17, 3]               0\n",
      "         MaxPool2d-3             [-1, 64, 8, 1]               0\n",
      "            Conv2d-4            [-1, 128, 9, 2]          32,896\n",
      "              Tanh-5            [-1, 128, 9, 2]               0\n",
      "         MaxPool2d-6            [-1, 128, 4, 1]               0\n",
      "         Dropout2d-7            [-1, 128, 4, 1]               0\n",
      "           Flatten-8                  [-1, 512]               0\n",
      "           Flatten-9                  [-1, 512]               0\n",
      "           Linear-10                  [-1, 100]          51,300\n",
      "             ReLU-11                  [-1, 100]               0\n",
      "           Linear-12                   [-1, 10]           1,010\n",
      "================================================================\n",
      "Total params: 93,462\n",
      "Trainable params: 93,462\n",
      "Non-trainable params: 0\n",
      "----------------------------------------------------------------\n",
      "Input size (MB): 0.00\n",
      "Forward/backward pass size (MB): 0.11\n",
      "Params size (MB): 0.36\n",
      "Estimated Total Size (MB): 0.47\n",
      "----------------------------------------------------------------\n"
     ]
    }
   ],
   "source": [
    "model = CNN()\n",
    "from torchsummary import summary\n",
    "summary(model, input_size = (32, 16, 2), device='cpu')"
   ]
  },
  {
   "cell_type": "code",
   "execution_count": 14,
   "id": "resident-lotus",
   "metadata": {
    "ExecuteTime": {
     "end_time": "2021-08-12T00:57:40.503538Z",
     "start_time": "2021-08-12T00:57:40.497486Z"
    }
   },
   "outputs": [],
   "source": [
    "def one_pass(model, dataloader, optimizer, lossFun, backwards=True, print_loss=False):\n",
    "    \n",
    "    if backwards == True:\n",
    "        model.train()\n",
    "    else:\n",
    "        model.eval()\n",
    "    \n",
    "    total_loss = 0.0\n",
    "    for x, y in tqdm(dataloader):\n",
    "        \n",
    "        y_pred = model(x)\n",
    "        loss = lossFun(y_pred, y)\n",
    "        total_loss += loss.item()\n",
    "        \n",
    "        if backwards == True:\n",
    "            optimizer.zero_grad()\n",
    "            loss.backward()\n",
    "            optimizer.step()\n",
    "    avg_loss = total_loss / len(dataloader)\n",
    "    \n",
    "    if print_loss == True:\n",
    "        print(avg_loss)\n",
    "    \n",
    "    return avg_loss\n",
    "\n",
    "def one_pass_acc(model, dataloader, num_points):\n",
    "    model.eval()\n",
    "    total_acc = []\n",
    "    \n",
    "    softmax = nn.Softmax(dim=1)\n",
    "    \n",
    "    for x, y in dataloader:\n",
    "        y_pred = softmax(model(x))\n",
    "        y_pred = torch.argmax(y_pred, dim=1)\n",
    "        \n",
    "        acc = 1 - (torch.count_nonzero(y - y_pred).item() / y.shape[0])\n",
    "        \n",
    "        total_acc.append(acc)\n",
    "        \n",
    "    return round(np.mean(total_acc),2)"
   ]
  },
  {
   "cell_type": "code",
   "execution_count": 15,
   "id": "monetary-angola",
   "metadata": {
    "ExecuteTime": {
     "end_time": "2021-08-12T00:57:40.510840Z",
     "start_time": "2021-08-12T00:57:40.505599Z"
    }
   },
   "outputs": [],
   "source": [
    "from tqdm.notebook import tqdm\n",
    "def train_epoch(num_epochs, model, dl_train, dl_val, optimizer, lossFun, ds_train, ds_val):\n",
    "    train_losses = []\n",
    "    valid_losses = []\n",
    "    train_accs = []\n",
    "    valid_accs = []\n",
    "\n",
    "    for epoch in tqdm(range(num_epochs)):\n",
    "        print('Epoch: ', epoch)\n",
    "\n",
    "        train_loss = one_pass(model, dl_train, optimizer, lossFun)\n",
    "        train_losses.append(train_loss)\n",
    "        print('Train loss: ', train_loss)\n",
    "\n",
    "        valid_loss = one_pass(model, dl_val, optimizer, lossFun, backwards=False)\n",
    "        valid_losses.append(valid_loss)\n",
    "        print('Valid loss: ', valid_loss)\n",
    "\n",
    "        train_acc = one_pass_acc(model, dl_train, len(ds_train))\n",
    "        train_accs.append(train_acc)\n",
    "        valid_acc = one_pass_acc(model, dl_val, len(ds_val))\n",
    "        valid_accs.append(valid_acc)\n",
    "        print('Train Acc: ', train_acc)\n",
    "        print('Valid Acc: ', valid_acc)\n",
    "    \n",
    "    return train_losses, valid_losses, train_accs, valid_accs\n",
    "    "
   ]
  },
  {
   "cell_type": "code",
   "execution_count": 16,
   "id": "enclosed-parallel",
   "metadata": {
    "ExecuteTime": {
     "end_time": "2021-08-12T00:57:41.005874Z",
     "start_time": "2021-08-12T00:57:40.512560Z"
    }
   },
   "outputs": [],
   "source": [
    "import seaborn as sns"
   ]
  },
  {
   "cell_type": "code",
   "execution_count": 17,
   "id": "developmental-transcription",
   "metadata": {
    "ExecuteTime": {
     "end_time": "2021-08-12T00:57:41.014771Z",
     "start_time": "2021-08-12T00:57:41.007552Z"
    }
   },
   "outputs": [],
   "source": [
    "def plot_results(train_loss, val_loss, train_acc, val_acc):\n",
    "    sns.set_theme()\n",
    "    fig, axes = plt.subplots(1,2, figsize=(15,5))\n",
    "    axes[0].plot(train_loss, label='train')\n",
    "    axes[0].plot(val_loss, label='validation')\n",
    "    axes[0].set_xlabel('Epoch')\n",
    "    axes[0].set_ylabel('Losses')\n",
    "    axes[0].legend()\n",
    "    \n",
    "    axes[1].plot(train_acc, label='train')\n",
    "    axes[1].plot(val_acc, label='validation')\n",
    "    axes[1].set_xlabel('Epoch')\n",
    "    axes[1].set_ylabel('Accuracy')\n",
    "    axes[1].legend()\n",
    "\n",
    "    plt.show()"
   ]
  },
  {
   "cell_type": "code",
   "execution_count": 18,
   "id": "robust-poverty",
   "metadata": {
    "ExecuteTime": {
     "end_time": "2021-08-12T00:57:41.019601Z",
     "start_time": "2021-08-12T00:57:41.016774Z"
    }
   },
   "outputs": [],
   "source": [
    "ds_train = UrbanSoundDataset(df_train)\n",
    "ds_val = UrbanSoundDataset(df_val)\n",
    "dl_train = DataLoader(ds_train, batch_size=100, shuffle=True)\n",
    "dl_val = DataLoader(ds_val, batch_size=100, shuffle=False)"
   ]
  },
  {
   "cell_type": "code",
   "execution_count": 19,
   "id": "designing-filter",
   "metadata": {
    "ExecuteTime": {
     "end_time": "2021-08-12T01:06:10.066139Z",
     "start_time": "2021-08-12T00:57:41.021320Z"
    }
   },
   "outputs": [
    {
     "data": {
      "application/vnd.jupyter.widget-view+json": {
       "model_id": "08034aac3dba49b0a4aeed00cf8b136b",
       "version_major": 2,
       "version_minor": 0
      },
      "text/plain": [
       "  0%|          | 0/10 [00:00<?, ?it/s]"
      ]
     },
     "metadata": {},
     "output_type": "display_data"
    },
    {
     "name": "stdout",
     "output_type": "stream",
     "text": [
      "Epoch:  0\n"
     ]
    },
    {
     "data": {
      "application/vnd.jupyter.widget-view+json": {
       "model_id": "a0d03dc3e3b54c8288413c5808902c60",
       "version_major": 2,
       "version_minor": 0
      },
      "text/plain": [
       "  0%|          | 0/362 [00:00<?, ?it/s]"
      ]
     },
     "metadata": {},
     "output_type": "display_data"
    },
    {
     "name": "stdout",
     "output_type": "stream",
     "text": [
      "Train loss:  1.7312265736622046\n"
     ]
    },
    {
     "data": {
      "application/vnd.jupyter.widget-view+json": {
       "model_id": "8388ccdd61834a7c9dbe4aefa5c44dfe",
       "version_major": 2,
       "version_minor": 0
      },
      "text/plain": [
       "  0%|          | 0/81 [00:00<?, ?it/s]"
      ]
     },
     "metadata": {},
     "output_type": "display_data"
    },
    {
     "name": "stdout",
     "output_type": "stream",
     "text": [
      "Valid loss:  1.6105207675769004\n",
      "Train Acc:  0.47\n",
      "Valid Acc:  0.37\n",
      "Epoch:  1\n"
     ]
    },
    {
     "data": {
      "application/vnd.jupyter.widget-view+json": {
       "model_id": "570b2b2802c645959d9ad9b2fbc09ee4",
       "version_major": 2,
       "version_minor": 0
      },
      "text/plain": [
       "  0%|          | 0/362 [00:00<?, ?it/s]"
      ]
     },
     "metadata": {},
     "output_type": "display_data"
    },
    {
     "name": "stdout",
     "output_type": "stream",
     "text": [
      "Train loss:  1.2968530223514494\n"
     ]
    },
    {
     "data": {
      "application/vnd.jupyter.widget-view+json": {
       "model_id": "aa435033eb304eb4a3fa1a17d12b699d",
       "version_major": 2,
       "version_minor": 0
      },
      "text/plain": [
       "  0%|          | 0/81 [00:00<?, ?it/s]"
      ]
     },
     "metadata": {},
     "output_type": "display_data"
    },
    {
     "name": "stdout",
     "output_type": "stream",
     "text": [
      "Valid loss:  1.5337809640684246\n",
      "Train Acc:  0.59\n",
      "Valid Acc:  0.49\n",
      "Epoch:  2\n"
     ]
    },
    {
     "data": {
      "application/vnd.jupyter.widget-view+json": {
       "model_id": "4c068fb0011b415894024f6435d67b54",
       "version_major": 2,
       "version_minor": 0
      },
      "text/plain": [
       "  0%|          | 0/362 [00:00<?, ?it/s]"
      ]
     },
     "metadata": {},
     "output_type": "display_data"
    },
    {
     "name": "stdout",
     "output_type": "stream",
     "text": [
      "Train loss:  1.0717233091757443\n"
     ]
    },
    {
     "data": {
      "application/vnd.jupyter.widget-view+json": {
       "model_id": "0bc2d83ad5174e52a266912b333071cf",
       "version_major": 2,
       "version_minor": 0
      },
      "text/plain": [
       "  0%|          | 0/81 [00:00<?, ?it/s]"
      ]
     },
     "metadata": {},
     "output_type": "display_data"
    },
    {
     "name": "stdout",
     "output_type": "stream",
     "text": [
      "Valid loss:  1.5579914796499559\n",
      "Train Acc:  0.67\n",
      "Valid Acc:  0.54\n",
      "Epoch:  3\n"
     ]
    },
    {
     "data": {
      "application/vnd.jupyter.widget-view+json": {
       "model_id": "92245278687448f8976707b864f73fe5",
       "version_major": 2,
       "version_minor": 0
      },
      "text/plain": [
       "  0%|          | 0/362 [00:00<?, ?it/s]"
      ]
     },
     "metadata": {},
     "output_type": "display_data"
    },
    {
     "name": "stdout",
     "output_type": "stream",
     "text": [
      "Train loss:  0.9168297072141869\n"
     ]
    },
    {
     "data": {
      "application/vnd.jupyter.widget-view+json": {
       "model_id": "01246acd950a4cd28baea8a4b96ad54a",
       "version_major": 2,
       "version_minor": 0
      },
      "text/plain": [
       "  0%|          | 0/81 [00:00<?, ?it/s]"
      ]
     },
     "metadata": {},
     "output_type": "display_data"
    },
    {
     "name": "stdout",
     "output_type": "stream",
     "text": [
      "Valid loss:  1.7268256817334964\n",
      "Train Acc:  0.72\n",
      "Valid Acc:  0.53\n",
      "Epoch:  4\n"
     ]
    },
    {
     "data": {
      "application/vnd.jupyter.widget-view+json": {
       "model_id": "634a2ca3c18d4a79ae875e55d0e9d422",
       "version_major": 2,
       "version_minor": 0
      },
      "text/plain": [
       "  0%|          | 0/362 [00:00<?, ?it/s]"
      ]
     },
     "metadata": {},
     "output_type": "display_data"
    },
    {
     "name": "stdout",
     "output_type": "stream",
     "text": [
      "Train loss:  0.7999589242329255\n"
     ]
    },
    {
     "data": {
      "application/vnd.jupyter.widget-view+json": {
       "model_id": "2558ae93005743989d590b079ac7f194",
       "version_major": 2,
       "version_minor": 0
      },
      "text/plain": [
       "  0%|          | 0/81 [00:00<?, ?it/s]"
      ]
     },
     "metadata": {},
     "output_type": "display_data"
    },
    {
     "name": "stdout",
     "output_type": "stream",
     "text": [
      "Valid loss:  1.6764434737923704\n",
      "Train Acc:  0.77\n",
      "Valid Acc:  0.56\n",
      "Epoch:  5\n"
     ]
    },
    {
     "data": {
      "application/vnd.jupyter.widget-view+json": {
       "model_id": "6bb03c098224462ab943e5973287d8a9",
       "version_major": 2,
       "version_minor": 0
      },
      "text/plain": [
       "  0%|          | 0/362 [00:00<?, ?it/s]"
      ]
     },
     "metadata": {},
     "output_type": "display_data"
    },
    {
     "name": "stdout",
     "output_type": "stream",
     "text": [
      "Train loss:  0.7064347342068319\n"
     ]
    },
    {
     "data": {
      "application/vnd.jupyter.widget-view+json": {
       "model_id": "f130f09504c64bf2b3ac30f05715b85d",
       "version_major": 2,
       "version_minor": 0
      },
      "text/plain": [
       "  0%|          | 0/81 [00:00<?, ?it/s]"
      ]
     },
     "metadata": {},
     "output_type": "display_data"
    },
    {
     "name": "stdout",
     "output_type": "stream",
     "text": [
      "Valid loss:  1.7236124001167439\n",
      "Train Acc:  0.79\n",
      "Valid Acc:  0.56\n",
      "Epoch:  6\n"
     ]
    },
    {
     "data": {
      "application/vnd.jupyter.widget-view+json": {
       "model_id": "e0d97c116285424d82415cb374b92ca3",
       "version_major": 2,
       "version_minor": 0
      },
      "text/plain": [
       "  0%|          | 0/362 [00:00<?, ?it/s]"
      ]
     },
     "metadata": {},
     "output_type": "display_data"
    },
    {
     "name": "stdout",
     "output_type": "stream",
     "text": [
      "Train loss:  0.6344079138165679\n"
     ]
    },
    {
     "data": {
      "application/vnd.jupyter.widget-view+json": {
       "model_id": "f9f6e122561147a2b67defc4d23e87ae",
       "version_major": 2,
       "version_minor": 0
      },
      "text/plain": [
       "  0%|          | 0/81 [00:00<?, ?it/s]"
      ]
     },
     "metadata": {},
     "output_type": "display_data"
    },
    {
     "name": "stdout",
     "output_type": "stream",
     "text": [
      "Valid loss:  1.7584843043191933\n",
      "Train Acc:  0.82\n",
      "Valid Acc:  0.54\n",
      "Epoch:  7\n"
     ]
    },
    {
     "data": {
      "application/vnd.jupyter.widget-view+json": {
       "model_id": "18a56ef1f5dd4991b373af00b8a71de0",
       "version_major": 2,
       "version_minor": 0
      },
      "text/plain": [
       "  0%|          | 0/362 [00:00<?, ?it/s]"
      ]
     },
     "metadata": {},
     "output_type": "display_data"
    },
    {
     "name": "stdout",
     "output_type": "stream",
     "text": [
      "Train loss:  0.5728066236768639\n"
     ]
    },
    {
     "data": {
      "application/vnd.jupyter.widget-view+json": {
       "model_id": "4fb794f63c0843c8a700f99622631a7a",
       "version_major": 2,
       "version_minor": 0
      },
      "text/plain": [
       "  0%|          | 0/81 [00:00<?, ?it/s]"
      ]
     },
     "metadata": {},
     "output_type": "display_data"
    },
    {
     "name": "stdout",
     "output_type": "stream",
     "text": [
      "Valid loss:  1.9087321666287786\n",
      "Train Acc:  0.84\n",
      "Valid Acc:  0.54\n",
      "Epoch:  8\n"
     ]
    },
    {
     "data": {
      "application/vnd.jupyter.widget-view+json": {
       "model_id": "90c9158425c5477ab53fb2c59296d72d",
       "version_major": 2,
       "version_minor": 0
      },
      "text/plain": [
       "  0%|          | 0/362 [00:00<?, ?it/s]"
      ]
     },
     "metadata": {},
     "output_type": "display_data"
    },
    {
     "name": "stdout",
     "output_type": "stream",
     "text": [
      "Train loss:  0.5168848090408915\n"
     ]
    },
    {
     "data": {
      "application/vnd.jupyter.widget-view+json": {
       "model_id": "baaadfa5a17045f4b0b6567f6a526b2e",
       "version_major": 2,
       "version_minor": 0
      },
      "text/plain": [
       "  0%|          | 0/81 [00:00<?, ?it/s]"
      ]
     },
     "metadata": {},
     "output_type": "display_data"
    },
    {
     "name": "stdout",
     "output_type": "stream",
     "text": [
      "Valid loss:  1.8813699454437067\n",
      "Train Acc:  0.85\n",
      "Valid Acc:  0.54\n",
      "Epoch:  9\n"
     ]
    },
    {
     "data": {
      "application/vnd.jupyter.widget-view+json": {
       "model_id": "463cea2b26df438dbceea26a8c4ba874",
       "version_major": 2,
       "version_minor": 0
      },
      "text/plain": [
       "  0%|          | 0/362 [00:00<?, ?it/s]"
      ]
     },
     "metadata": {},
     "output_type": "display_data"
    },
    {
     "name": "stdout",
     "output_type": "stream",
     "text": [
      "Train loss:  0.47489824479456105\n"
     ]
    },
    {
     "data": {
      "application/vnd.jupyter.widget-view+json": {
       "model_id": "bb1a549f21c8449e902cbad29767d7bb",
       "version_major": 2,
       "version_minor": 0
      },
      "text/plain": [
       "  0%|          | 0/81 [00:00<?, ?it/s]"
      ]
     },
     "metadata": {},
     "output_type": "display_data"
    },
    {
     "name": "stdout",
     "output_type": "stream",
     "text": [
      "Valid loss:  1.937306711703171\n",
      "Train Acc:  0.87\n",
      "Valid Acc:  0.54\n"
     ]
    }
   ],
   "source": [
    "num_epoch = 10\n",
    "model = CNN()\n",
    "dl_train = dl_train\n",
    "dl_val = dl_val\n",
    "optimizer = torch.optim.AdamW(model.parameters(), lr=0.0005)\n",
    "lossFun = nn.CrossEntropyLoss()\n",
    "ds_train = ds_train\n",
    "ds_val = ds_val\n",
    "\n",
    "train_losses, valid_losses, train_accs, valid_accs = train_epoch(num_epoch, model, dl_train, dl_val, optimizer, lossFun, ds_train, ds_val)"
   ]
  },
  {
   "cell_type": "code",
   "execution_count": 20,
   "id": "enormous-thinking",
   "metadata": {
    "ExecuteTime": {
     "end_time": "2021-08-12T01:06:10.362951Z",
     "start_time": "2021-08-12T01:06:10.068679Z"
    }
   },
   "outputs": [
    {
     "data": {
      "image/png": "[encoded data removed]",
      "text/plain": [
       "<Figure size 1080x360 with 2 Axes>"
      ]
     },
     "metadata": {},
     "output_type": "display_data"
    }
   ],
   "source": [
    "plot_results(train_losses, valid_losses, train_accs, valid_accs)"
   ]
  },
  {
   "cell_type": "code",
   "execution_count": 21,
   "id": "mexican-munich",
   "metadata": {
    "ExecuteTime": {
     "end_time": "2021-08-12T02:24:41.643448Z",
     "start_time": "2021-08-12T02:24:41.635140Z"
    }
   },
   "outputs": [],
   "source": [
    "def plot_results(train_loss, val_loss, train_acc, val_acc, save=False):\n",
    "    sns.set_theme()\n",
    "    fig, axes = plt.subplots(1,2, figsize=(15,5))\n",
    "    axes[0].plot(train_loss, label='train')\n",
    "    axes[0].plot(val_loss, label='validation')\n",
    "    axes[0].set_xlabel('Epoch')\n",
    "    axes[0].set_ylabel('Losses')\n",
    "    axes[0].legend()\n",
    "    \n",
    "    axes[1].plot(train_acc, label='train')\n",
    "    axes[1].plot(val_acc, label='validation')\n",
    "    axes[1].set_xlabel('Epoch')\n",
    "    axes[1].set_ylabel('Accuracy')\n",
    "    axes[1].legend()\n",
    "    \n",
    "    if save:\n",
    "        plt.savefig('3d', dpi=150)"
   ]
  },
  {
   "cell_type": "code",
   "execution_count": 22,
   "id": "liberal-document",
   "metadata": {
    "ExecuteTime": {
     "end_time": "2021-08-12T02:24:53.897701Z",
     "start_time": "2021-08-12T02:24:53.414268Z"
    }
   },
   "outputs": [
    {
     "data": {
      "image/png": "[encoded data removed]",
      "text/plain": [
       "<Figure size 1080x360 with 2 Axes>"
      ]
     },
     "metadata": {},
     "output_type": "display_data"
    }
   ],
   "source": [
    "plot_results(train_losses, valid_losses, train_accs, valid_accs, save=True)"
   ]
  },
  {
   "cell_type": "code",
   "execution_count": null,
   "id": "plastic-dinner",
   "metadata": {},
   "outputs": [],
   "source": []
  }
 ],
 "metadata": {
  "kernelspec": {
   "display_name": "Python 3",
   "language": "python",
   "name": "python3"
  },
  "language_info": {
   "codemirror_mode": {
    "name": "ipython",
    "version": 3
   },
   "file_extension": ".py",
   "mimetype": "text/x-python",
   "name": "python",
   "nbconvert_exporter": "python",
   "pygments_lexer": "ipython3",
   "version": "3.8.2"
  },
  "toc": {
   "base_numbering": 1,
   "nav_menu": {},
   "number_sections": true,
   "sideBar": true,
   "skip_h1_title": false,
   "title_cell": "Table of Contents",
   "title_sidebar": "Contents",
   "toc_cell": false,
   "toc_position": {},
   "toc_section_display": true,
   "toc_window_display": false
  },
  "varInspector": {
   "cols": {
    "lenName": 16,
    "lenType": 16,
    "lenVar": 40
   },
   "kernels_config": {
    "python": {
     "delete_cmd_postfix": "",
     "delete_cmd_prefix": "del ",
     "library": "var_list.py",
     "varRefreshCmd": "print(var_dic_list())"
    },
    "r": {
     "delete_cmd_postfix": ") ",
     "delete_cmd_prefix": "rm(",
     "library": "var_list.r",
     "varRefreshCmd": "cat(var_dic_list()) "
    }
   },
   "types_to_exclude": [
    "module",
    "function",
    "builtin_function_or_method",
    "instance",
    "_Feature"
   ],
   "window_display": false
  }
 },
 "nbformat": 4,
 "nbformat_minor": 5
}
