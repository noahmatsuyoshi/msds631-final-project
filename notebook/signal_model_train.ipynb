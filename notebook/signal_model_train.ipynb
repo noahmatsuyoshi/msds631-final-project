{
 "cells": [
  {
   "cell_type": "code",
   "execution_count": 2,
   "metadata": {
    "collapsed": true
   },
   "outputs": [],
   "source": [
    "import os\n",
    "\n",
    "from tqdm.notebook import tqdm\n",
    "import numpy as np\n",
    "import pandas as pd\n",
    "import torch\n",
    "import torch.nn as nn\n",
    "import torch.nn.functional as F\n",
    "from torch.utils.data import Dataset, DataLoader"
   ]
  },
  {
   "cell_type": "code",
   "execution_count": null,
   "outputs": [],
   "source": [
    "if torch.cuda.is_available():\n",
    "    dev = \"cuda:0\"\n",
    "    num_workers = 1\n",
    "    pin_memory = True\n",
    "else:\n",
    "    dev = \"cpu\"\n",
    "    num_workers = 0\n",
    "    pin_memory = False\n",
    "num_workers = 0\n",
    "pin_memory = False"
   ],
   "metadata": {
    "collapsed": false,
    "pycharm": {
     "name": "#%%\n"
    }
   }
  },
  {
   "cell_type": "code",
   "execution_count": null,
   "outputs": [],
   "source": [
    "root_dir = '../slices'"
   ],
   "metadata": {
    "collapsed": false,
    "pycharm": {
     "name": "#%%\n"
    }
   }
  },
  {
   "cell_type": "code",
   "execution_count": null,
   "outputs": [],
   "source": [
    "slice_df = pd.read_csv(\"../slice_filenames.csv\")\n",
    "slice_df.head()"
   ],
   "metadata": {
    "collapsed": false,
    "pycharm": {
     "name": "#%%\n"
    }
   }
  },
  {
   "cell_type": "code",
   "execution_count": null,
   "outputs": [],
   "source": [
    "class SignalDataset(Dataset):\n",
    "    def __init__(self, slice_df):\n",
    "        self.slice_df = slice_df\n",
    "\n",
    "    def __len__(self):\n",
    "        return len(self.slice_df)\n",
    "\n",
    "    def __getitem__(self, idx):\n",
    "        row = self.slice_df.iloc[idx,:]\n",
    "        filename = row['filename']\n",
    "        fold = row['fold']\n",
    "        x = np.load(os.path.join(root_dir, f\"fold{fold}\", filename))\n",
    "        x = torch.tensor(x, device=dev).float().unsqueeze(0)\n",
    "        y = torch.tensor(row['classID'], device=dev)\n",
    "        return x, y"
   ],
   "metadata": {
    "collapsed": false,
    "pycharm": {
     "name": "#%%\n"
    }
   }
  },
  {
   "cell_type": "code",
   "execution_count": null,
   "outputs": [],
   "source": [
    "train_df = slice_df[(slice_df['fold'] != 8) & (slice_df['fold'] != 9)]\n",
    "test_df = slice_df[(slice_df['fold'] == 8) | (slice_df['fold'] == 9)]"
   ],
   "metadata": {
    "collapsed": false,
    "pycharm": {
     "name": "#%%\n"
    }
   }
  },
  {
   "cell_type": "code",
   "execution_count": null,
   "outputs": [],
   "source": [
    "root_dir = '../slices'"
   ],
   "metadata": {
    "collapsed": false,
    "pycharm": {
     "name": "#%%\n"
    }
   }
  },
  {
   "cell_type": "code",
   "execution_count": null,
   "outputs": [],
   "source": [
    "slice_df = pd.read_csv(\"../slice_filenames.csv\")\n",
    "slice_df.head()"
   ],
   "metadata": {
    "collapsed": false,
    "pycharm": {
     "name": "#%%\n"
    }
   }
  },
  {
   "cell_type": "code",
   "execution_count": null,
   "outputs": [],
   "source": [
    "class SignalDataset(Dataset):\n",
    "    def __init__(self, slice_df):\n",
    "        self.slice_df = slice_df\n",
    "\n",
    "    def __len__(self):\n",
    "        return len(self.slice_df)\n",
    "\n",
    "    def __getitem__(self, idx):\n",
    "        row = self.slice_df.iloc[idx,:]\n",
    "        filename = row['filename']\n",
    "        fold = row['fold']\n",
    "        x = np.load(os.path.join(root_dir, f\"fold{fold}\", filename))\n",
    "        x = torch.tensor(x, device=dev).float().unsqueeze(0)\n",
    "        y = torch.tensor(row['classID'], device=dev)\n",
    "        return x, y"
   ],
   "metadata": {
    "collapsed": false,
    "pycharm": {
     "name": "#%%\n"
    }
   }
  },
  {
   "cell_type": "code",
   "execution_count": 56,
   "outputs": [],
   "source": [
    "train_df = slice_df[(slice_df['fold'] != 8) & (slice_df['fold'] != 9)]\n",
    "test_df = slice_df[(slice_df['fold'] == 8) | (slice_df['fold'] == 9)]"
   ],
   "metadata": {
    "collapsed": false,
    "pycharm": {
     "name": "#%%\n"
    }
   }
  },
  {
   "cell_type": "code",
   "execution_count": 57,
   "outputs": [],
   "source": [
    "class SignalModel(nn.Module):\n",
    "    def __init__(self, n_channels=32):\n",
    "        super(SignalModel, self).__init__()\n",
    "        self.relu = nn.ReLU()\n",
    "        self.log_softmax = nn.LogSoftmax(dim=2)\n",
    "        self.conv1 = nn.Conv1d(1, n_channels, kernel_size=240, stride=16)\n",
    "        self.bn1 = nn.BatchNorm1d(n_channels)\n",
    "        self.pool1 = nn.MaxPool1d(4)\n",
    "        self.conv2 = nn.Conv1d(n_channels, n_channels, kernel_size=3)\n",
    "        self.bn2 = nn.BatchNorm1d(n_channels)\n",
    "        self.pool2 = nn.MaxPool1d(4)\n",
    "        self.conv3 = nn.Conv1d(n_channels, 2 * n_channels, kernel_size=3)\n",
    "        self.bn3 = nn.BatchNorm1d(2 * n_channels)\n",
    "        self.pool3 = nn.MaxPool1d(4)\n",
    "        self.conv4 = nn.Conv1d(2 * n_channels, 2 * n_channels, kernel_size=3)\n",
    "        self.bn4 = nn.BatchNorm1d(2 * n_channels)\n",
    "        self.pool4 = nn.MaxPool1d(4)\n",
    "        self.fc1 = nn.Linear(2 * n_channels, 10)\n",
    "        \"\"\"self.layer = nn.Sequential( #44100\n",
    "            nn.Conv1d(in_channels=1, out_channels=n_channels, kernel_size=300, padding=150, stride=2, bias=False), #22050\n",
    "            nn.BatchNorm1d(n_channels),\n",
    "            nn.ReLU(),\n",
    "            nn.MaxPool1d(kernel_size=3, stride=2, padding=1), #11025\n",
    "            nn.Conv1d(in_channels=n_channels, out_channels=n_channels, kernel_size=3, stride=2, padding=1), #5513\n",
    "            nn.BatchNorm1d(n_channels),\n",
    "            nn.ReLU(),\n",
    "            nn.MaxPool1d(kernel_size=3, stride=2, padding=1), #2757\n",
    "            nn.Conv1d(in_channels=n_channels, out_channels=n_channels, kernel_size=3, stride=2, padding=1), #1379\n",
    "            nn.BatchNorm1d(n_channels),\n",
    "            nn.ReLU(),\n",
    "            nn.MaxPool1d(kernel_size=3, stride=2, padding=1), #690\n",
    "            nn.Conv1d(in_channels=n_channels, out_channels=n_channels, kernel_size=3, stride=2, padding=1), #345\n",
    "            nn.BatchNorm1d(n_channels),\n",
    "            nn.ReLU(),\n",
    "            nn.MaxPool1d(kernel_size=3, stride=2, padding=1), #173\n",
    "            nn.Flatten(),\n",
    "            nn.Linear(in_features=173*n_channels, out_features=128),\n",
    "            nn.ReLU(),\n",
    "            nn.Linear(in_features=128, out_features=10),\n",
    "        )\"\"\"\n",
    "\n",
    "    def forward(self, x):\n",
    "        x = self.conv1(x)\n",
    "        x = self.relu(self.bn1(x))\n",
    "        x = self.pool1(x)\n",
    "        x = self.conv2(x)\n",
    "        x = self.relu(self.bn2(x))\n",
    "        x = self.pool2(x)\n",
    "        x = self.conv3(x)\n",
    "        x = self.relu(self.bn3(x))\n",
    "        x = self.pool3(x)\n",
    "        x = self.conv4(x)\n",
    "        x = self.relu(self.bn4(x))\n",
    "        x = self.pool4(x)\n",
    "        x = F.avg_pool1d(x, x.shape[-1])\n",
    "        x = x.permute(0, 2, 1)\n",
    "        x = self.fc1(x)\n",
    "        return torch.squeeze(x)"
   ],
   "metadata": {
    "collapsed": false,
    "pycharm": {
     "name": "#%%\n"
    }
   }
  },
  {
   "cell_type": "code",
   "execution_count": 63,
   "outputs": [],
   "source": [
    "model = SignalModel().to(device=dev)"
   ],
   "metadata": {
    "collapsed": false,
    "pycharm": {
     "name": "#%%\n"
    }
   }
  },
  {
   "cell_type": "code",
   "execution_count": 61,
   "outputs": [
    {
     "data": {
      "text/plain": "  0%|          | 0/120 [00:00<?, ?it/s]",
      "application/vnd.jupyter.widget-view+json": {
       "version_major": 2,
       "version_minor": 0,
       "model_id": "b45a89860421424a83be2d11e156d436"
      }
     },
     "metadata": {},
     "output_type": "display_data"
    },
    {
     "name": "stdout",
     "output_type": "stream",
     "text": [
      "train_loss: 1.8965152204036713, val_loss: 1.897317111492157\n"
     ]
    },
    {
     "data": {
      "text/plain": "  0%|          | 0/120 [00:00<?, ?it/s]",
      "application/vnd.jupyter.widget-view+json": {
       "version_major": 2,
       "version_minor": 0,
       "model_id": "b736bcc6b3bd41c2a964d6ba4284ef30"
      }
     },
     "metadata": {},
     "output_type": "display_data"
    },
    {
     "name": "stdout",
     "output_type": "stream",
     "text": [
      "train_loss: 1.8650675068298976, val_loss: 1.868424117565155\n"
     ]
    },
    {
     "data": {
      "text/plain": "  0%|          | 0/120 [00:00<?, ?it/s]",
      "application/vnd.jupyter.widget-view+json": {
       "version_major": 2,
       "version_minor": 0,
       "model_id": "b9036daf54e04f84afffb15153a1da07"
      }
     },
     "metadata": {},
     "output_type": "display_data"
    },
    {
     "name": "stdout",
     "output_type": "stream",
     "text": [
      "train_loss: 1.8416416058937708, val_loss: 1.846133487565177\n"
     ]
    },
    {
     "data": {
      "text/plain": "  0%|          | 0/120 [00:00<?, ?it/s]",
      "application/vnd.jupyter.widget-view+json": {
       "version_major": 2,
       "version_minor": 0,
       "model_id": "617f661de73b4c33b5c548cc2aa50d86"
      }
     },
     "metadata": {},
     "output_type": "display_data"
    },
    {
     "name": "stdout",
     "output_type": "stream",
     "text": [
      "train_loss: 1.8225528170665106, val_loss: 1.8276245168277196\n"
     ]
    },
    {
     "data": {
      "text/plain": "  0%|          | 0/120 [00:00<?, ?it/s]",
      "application/vnd.jupyter.widget-view+json": {
       "version_major": 2,
       "version_minor": 0,
       "model_id": "d519f24ca51741e598bfed1dc5ca7fbe"
      }
     },
     "metadata": {},
     "output_type": "display_data"
    },
    {
     "name": "stdout",
     "output_type": "stream",
     "text": [
      "train_loss: 1.8054155955712001, val_loss: 1.8107345402240753\n"
     ]
    },
    {
     "data": {
      "text/plain": "  0%|          | 0/120 [00:00<?, ?it/s]",
      "application/vnd.jupyter.widget-view+json": {
       "version_major": 2,
       "version_minor": 0,
       "model_id": "7ea06581afbb435d9b201ec853b1324b"
      }
     },
     "metadata": {},
     "output_type": "display_data"
    },
    {
     "name": "stdout",
     "output_type": "stream",
     "text": [
      "train_loss: 1.788511766990026, val_loss: 1.795227323259626\n"
     ]
    },
    {
     "data": {
      "text/plain": "  0%|          | 0/120 [00:00<?, ?it/s]",
      "application/vnd.jupyter.widget-view+json": {
       "version_major": 2,
       "version_minor": 0,
       "model_id": "38e184ca9c1e4755abfb29d6260e585f"
      }
     },
     "metadata": {},
     "output_type": "display_data"
    },
    {
     "name": "stdout",
     "output_type": "stream",
     "text": [
      "train_loss: 1.772231670220693, val_loss: 1.7798216130052293\n"
     ]
    },
    {
     "data": {
      "text/plain": "  0%|          | 0/120 [00:00<?, ?it/s]",
      "application/vnd.jupyter.widget-view+json": {
       "version_major": 2,
       "version_minor": 0,
       "model_id": "dd9f0e53ab0c41598bf5d0b912e462ee"
      }
     },
     "metadata": {},
     "output_type": "display_data"
    },
    {
     "name": "stdout",
     "output_type": "stream",
     "text": [
      "train_loss: 1.756123247742653, val_loss: 1.7656113079616003\n"
     ]
    },
    {
     "data": {
      "text/plain": "  0%|          | 0/120 [00:00<?, ?it/s]",
      "application/vnd.jupyter.widget-view+json": {
       "version_major": 2,
       "version_minor": 0,
       "model_id": "a4e4adc05b984f609a1ed7f1a7ac1b21"
      }
     },
     "metadata": {},
     "output_type": "display_data"
    },
    {
     "name": "stdout",
     "output_type": "stream",
     "text": [
      "train_loss: 1.7402329554160436, val_loss: 1.7532477591718947\n"
     ]
    },
    {
     "data": {
      "text/plain": "  0%|          | 0/120 [00:00<?, ?it/s]",
      "application/vnd.jupyter.widget-view+json": {
       "version_major": 2,
       "version_minor": 0,
       "model_id": "b0416ace117a4ce5bc75442dc467db7d"
      }
     },
     "metadata": {},
     "output_type": "display_data"
    },
    {
     "name": "stdout",
     "output_type": "stream",
     "text": [
      "train_loss: 1.723841984073321, val_loss: 1.7425368683678764\n"
     ]
    },
    {
     "data": {
      "text/plain": "([1.8965152204036713,\n  1.8650675068298976,\n  1.8416416058937708,\n  1.8225528170665106,\n  1.8054155955712001,\n  1.788511766990026,\n  1.772231670220693,\n  1.756123247742653,\n  1.7402329554160436,\n  1.723841984073321],\n [1.897317111492157,\n  1.868424117565155,\n  1.846133487565177,\n  1.8276245168277196,\n  1.8107345402240753,\n  1.795227323259626,\n  1.7798216130052293,\n  1.7656113079616003,\n  1.7532477591718947,\n  1.7425368683678764])"
     },
     "execution_count": 61,
     "metadata": {},
     "output_type": "execute_result"
    }
   ],
   "source": [
    "loss_fn = nn.CrossEntropyLoss()\n",
    "optimizer = torch.optim.Adam(model.parameters(), lr=0.01, weight_decay=0.001)\n",
    "train_loop(train_dl, test_dl, model, loss_fn, optimizer)\n",
    "for _ in range(3):\n",
    "    optimizer = torch.optim.Adam(model.parameters(), lr=0.001, weight_decay=0.001)\n",
    "    train_loop(train_dl, test_dl, model, loss_fn, optimizer)\n",
    "for _ in range(6):\n",
    "    optimizer = torch.optim.Adam(model.parameters(), lr=0.0005, weight_decay=0.001)\n",
    "    train_loop(train_dl, test_dl, model, loss_fn, optimizer)"
   ],
   "metadata": {
    "collapsed": false,
    "pycharm": {
     "name": "#%%\n"
    }
   }
  },
  {
   "cell_type": "code",
   "execution_count": 62,
   "outputs": [
    {
     "name": "stdout",
     "output_type": "stream",
     "text": [
      "torch.Size([256, 10])\n",
      "torch.Size([256, 10])\n",
      "torch.Size([256, 10])\n",
      "torch.Size([256, 10])\n",
      "torch.Size([256, 10])\n",
      "torch.Size([256, 10])\n",
      "torch.Size([256, 10])\n",
      "torch.Size([256, 10])\n",
      "torch.Size([256, 10])\n",
      "torch.Size([256, 10])\n",
      "torch.Size([256, 10])\n",
      "torch.Size([256, 10])\n",
      "torch.Size([256, 10])\n",
      "torch.Size([256, 10])\n",
      "torch.Size([256, 10])\n",
      "torch.Size([256, 10])\n",
      "torch.Size([256, 10])\n",
      "torch.Size([256, 10])\n",
      "torch.Size([256, 10])\n",
      "torch.Size([256, 10])\n",
      "torch.Size([256, 10])\n",
      "torch.Size([256, 10])\n",
      "torch.Size([256, 10])\n",
      "torch.Size([256, 10])\n",
      "torch.Size([256, 10])\n",
      "torch.Size([256, 10])\n",
      "torch.Size([256, 10])\n",
      "torch.Size([230, 10])\n"
     ]
    },
    {
     "data": {
      "text/plain": "0.4567348081769812"
     },
     "execution_count": 62,
     "metadata": {},
     "output_type": "execute_result"
    }
   ],
   "source": [
    "one_pass_acc(model, test_dl)"
   ],
   "metadata": {
    "collapsed": false,
    "pycharm": {
     "name": "#%%\n"
    }
   }
  },
  {
   "cell_type": "code",
   "execution_count": null,
   "outputs": [],
   "source": [],
   "metadata": {
    "collapsed": false,
    "pycharm": {
     "name": "#%%\n"
    }
   }
  }
 ],
 "metadata": {
  "kernelspec": {
   "name": "pycharm-b2510d49",
   "language": "python",
   "display_name": "PyCharm (Deep Learning)"
  },
  "language_info": {
   "codemirror_mode": {
    "name": "ipython",
    "version": 2
   },
   "file_extension": ".py",
   "mimetype": "text/x-python",
   "name": "python",
   "nbconvert_exporter": "python",
   "pygments_lexer": "ipython2",
   "version": "2.7.6"
  }
 },
 "nbformat": 4,
 "nbformat_minor": 0
}