{
 "cells": [
  {
   "cell_type": "code",
   "execution_count": 1,
   "metadata": {},
   "outputs": [],
   "source": [
    "import sys\n",
    "import os\n",
    "import numpy as np\n",
    "import time\n",
    "from pathlib import Path\n",
    "from matplotlib import pyplot as plt\n",
    "\n",
    "import librosa\n",
    "from librosa.display import specshow\n",
    "from script.parameter_input import *"
   ]
  },
  {
   "cell_type": "code",
   "execution_count": 19,
   "metadata": {},
   "outputs": [],
   "source": [
    "### input audio and load model\n",
    "\n",
    "#test_path = sys.argv[1]\n",
    "test_path = os.path.join('..', 'tiny_data', '7383-3-0-0.wav')"
   ]
  },
  {
   "cell_type": "code",
   "execution_count": 27,
   "metadata": {},
   "outputs": [],
   "source": [
    "### preprocessor \n",
    "class Audio_Preprocessor:\n",
    "    \"\"\"\n",
    "    audio preprocessor\n",
    "    \n",
    "    transform_to_Sdb: transform audio into numpy array with two channels\n",
    "    \n",
    "    slice_train: slice train audio array into fixed size window\n",
    "    \n",
    "    slice_test: slice test audio array into fixed size window\n",
    "    \n",
    "    \n",
    "    \"\"\"\n",
    "\n",
    "    def __init__(self,\n",
    "                 hops_per_sec=HOPS_PER_SEC,\n",
    "                 sp_rt=SAMPLING_RATE,\n",
    "                 hop_len=int(SAMPLING_RATE / HOPS_PER_SEC),\n",
    "                 n_mels=N_MELS,\n",
    "                 offset=OFFSET,\n",
    "                 duration=WIN_SEC):\n",
    "        self.hops_per_sec = hops_per_sec\n",
    "        self.sp_rt = sp_rt\n",
    "        self.hop_len = hop_len\n",
    "        self.n_mels = n_mels\n",
    "        self.offset = offset\n",
    "        self.duration = duration\n",
    "        self.width = self.duration * self.hops_per_sec\n",
    "\n",
    "    def transform_to_Sdb(self, aud_file):\n",
    "\n",
    "        self.stem = Path(aud_file).stem\n",
    "\n",
    "        mp3, sr = librosa.load(aud_file, sr=self.sp_rt, mono = False)\n",
    "        total_time = librosa.samples_to_time(len(mp3), self.sp_rt)\n",
    "        \n",
    "        S0 = librosa.feature.melspectrogram(\n",
    "            y=mp3[0,:], sr=self.sp_rt, n_mels=self.n_mels, hop_length=self.hop_len)\n",
    "        S1 = librosa.feature.melspectrogram(\n",
    "            y=mp3[1,:], sr=self.sp_rt, n_mels=self.n_mels, hop_length=self.hop_len)\n",
    "        S = np.dstack([S0, S1])\n",
    "\n",
    "        self.S_db = librosa.power_to_db(S, ref=np.max)\n",
    "        self.S_db = np.swapaxes(self.S_db, 0, 1)\n",
    "        \n",
    "            \n",
    "        print(f'audio {self.stem} total {total_time} seconds, with S_db shape {self.S_db.shape}')\n",
    "        \n",
    "    \n",
    "    def slice_train(self, save = True):\n",
    "        S_db_scale = self.S_db/-80  # normalize into range [0, 1]\n",
    "        n, m, k = S_db_scale.shape  # m = N_MELS\n",
    "        \n",
    "        resx_train = []\n",
    "        for i in range(0, n - self.width + 1, 5): # 5 hops ahead overlapping\n",
    "            X = S_db_scale[i:self.width + i, :, :]\n",
    "            resx_train.append(X)\n",
    "            \n",
    "        self.train_array = np.stack(resx_train)\n",
    "        \n",
    "        if save:\n",
    "            np.save(os.path.join('..', 'npy', f'{self.stem}.npy'), self.train_array)\n",
    "            \n",
    "        print(f'split audio {self.stem}.wav for training with shape: {self.train_array.shape}')\n",
    "        \n",
    "    \n",
    "    def slice_test(self):\n",
    "\n",
    "        S_db_scale = self.S_db/-80 # normalize into range [0, 1]\n",
    "        n, m, k = S_db_scale.shape  # m = N_MELS\n",
    "        \n",
    "        resx_test = []\n",
    "        for i in range(0, n, self.width): # non-overlapping for test\n",
    "            x = S_db_scale[i:i+self.width, :, :]\n",
    "            left = self.width - x.shape[0]\n",
    "            if left > 0:\n",
    "                x = S_db_scale[i-left:, :, :]\n",
    "            resx_test.append(x)\n",
    "            \n",
    "        self.test_array = np.stack(resx_test)\n",
    "        print(f'split audio {self.stem}.wav for testing with shape: {self.test_array.shape}')\n",
    "        "
   ]
  },
  {
   "cell_type": "code",
   "execution_count": 28,
   "metadata": {},
   "outputs": [
    {
     "name": "stdout",
     "output_type": "stream",
     "text": [
      "audio 7383-3-0-0 total 4.5351473922902495e-05 seconds, with S_db shape (81, 16, 2)\n"
     ]
    }
   ],
   "source": [
    "ap = Audio_Preprocessor()\n",
    "ap.transform_to_Sdb(test_path)"
   ]
  },
  {
   "cell_type": "code",
   "execution_count": 29,
   "metadata": {},
   "outputs": [
    {
     "name": "stdout",
     "output_type": "stream",
     "text": [
      "split audio 7383-3-0-0.wav for training with shape: (5, 60, 16, 2)\n"
     ]
    }
   ],
   "source": [
    "ap.slice_train() # save into npy folder"
   ]
  },
  {
   "cell_type": "code",
   "execution_count": 30,
   "metadata": {},
   "outputs": [
    {
     "data": {
      "text/plain": "(60, 16, 2)"
     },
     "execution_count": 30,
     "metadata": {},
     "output_type": "execute_result"
    }
   ],
   "source": [
    "ap.train_array[0].shape"
   ]
  },
  {
   "cell_type": "code",
   "execution_count": 31,
   "metadata": {},
   "outputs": [
    {
     "data": {
      "text/plain": "(5, 60, 16, 2)"
     },
     "execution_count": 31,
     "metadata": {},
     "output_type": "execute_result"
    }
   ],
   "source": [
    "# try to load npy from folder\n",
    "\n",
    "test = np.load(os.path.join('..', 'npy', '7383-3-0-0.npy'))\n",
    "test.shape"
   ]
  },
  {
   "cell_type": "code",
   "execution_count": 16,
   "metadata": {},
   "outputs": [],
   "source": [
    "# visualize mel spectrogram"
   ]
  },
  {
   "cell_type": "code",
   "execution_count": 32,
   "metadata": {},
   "outputs": [
    {
     "data": {
      "text/plain": "<Figure size 864x288 with 2 Axes>",
      "image/png": "[encoded data removed]"
     },
     "metadata": {
      "needs_background": "light"
     },
     "output_type": "display_data"
    }
   ],
   "source": [
    "def vis_array(Sdb):\n",
    "    fig, axes = plt.subplots(figsize=(12, 4), nrows = 1 , ncols = 2)\n",
    "    ax1, ax2 = axes.flatten()\n",
    "\n",
    "    img = specshow(np.rot90(Sdb[:, :, 0]), x_axis='time', y_axis='mel',\n",
    "                ax=ax1, sr=SAMPLING_RATE, hop_length=HOP_LENGTH)\n",
    "\n",
    "    ax1.set_title(f'channel 1')\n",
    "\n",
    "\n",
    "    img = specshow(np.rot90(Sdb[:, :, 1]), x_axis='time', y_axis='mel',\n",
    "                ax=ax2, sr=SAMPLING_RATE, hop_length=HOP_LENGTH)\n",
    "\n",
    "    ax2.set_title(f'channel 2')\n",
    "\n",
    "    plt.show()\n",
    "    \n",
    "vis_array(ap.S_db)"
   ]
  },
  {
   "cell_type": "code",
   "execution_count": null,
   "metadata": {},
   "outputs": [],
   "source": [
    " "
   ]
  },
  {
   "cell_type": "code",
   "execution_count": null,
   "metadata": {},
   "outputs": [],
   "source": []
  }
 ],
 "metadata": {
  "kernelspec": {
   "name": "pycharm-b2510d49",
   "language": "python",
   "display_name": "PyCharm (Deep Learning)"
  },
  "language_info": {
   "codemirror_mode": {
    "name": "ipython",
    "version": 3
   },
   "file_extension": ".py",
   "mimetype": "text/x-python",
   "name": "python",
   "nbconvert_exporter": "python",
   "pygments_lexer": "ipython3",
   "version": "3.8.6"
  }
 },
 "nbformat": 4,
 "nbformat_minor": 2
}