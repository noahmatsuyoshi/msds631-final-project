{
 "cells": [
  {
   "cell_type": "code",
   "execution_count": 88,
   "id": "elementary-butterfly",
   "metadata": {
    "ExecuteTime": {
     "end_time": "2021-08-12T00:24:48.300965Z",
     "start_time": "2021-08-12T00:24:48.297517Z"
    }
   },
   "outputs": [],
   "source": [
    "import numpy as np\n",
    "import pandas as pd\n",
    "import torch\n",
    "from torch.utils.data import Dataset\n",
    "from torch.utils.data import DataLoader\n",
    "import torch.nn as nn\n",
    "import torch.optim as optim\n",
    "\n",
    "import torchvision\n",
    "import torchaudio.transforms as T\n",
    "\n",
    "import torchaudio\n",
    "\n",
    "from tqdm.notebook import tqdm\n",
    "import matplotlib.pyplot as plt"
   ]
  },
  {
   "cell_type": "code",
   "execution_count": 89,
   "id": "marine-synthetic",
   "metadata": {
    "ExecuteTime": {
     "end_time": "2021-08-12T00:24:48.842886Z",
     "start_time": "2021-08-12T00:24:48.785287Z"
    }
   },
   "outputs": [
    {
     "data": {
      "text/html": [
       "<div>\n",
       "<style scoped>\n",
       "    .dataframe tbody tr th:only-of-type {\n",
       "        vertical-align: middle;\n",
       "    }\n",
       "\n",
       "    .dataframe tbody tr th {\n",
       "        vertical-align: top;\n",
       "    }\n",
       "\n",
       "    .dataframe thead th {\n",
       "        text-align: right;\n",
       "    }\n",
       "</style>\n",
       "<table border=\"1\" class=\"dataframe\">\n",
       "  <thead>\n",
       "    <tr style=\"text-align: right;\">\n",
       "      <th></th>\n",
       "      <th>Unnamed: 0</th>\n",
       "      <th>file_path</th>\n",
       "      <th>classid</th>\n",
       "    </tr>\n",
       "  </thead>\n",
       "  <tbody>\n",
       "    <tr>\n",
       "      <th>0</th>\n",
       "      <td>0</td>\n",
       "      <td>../data/UrbanSound8K/slices_2d/fold1/46654-6-0...</td>\n",
       "      <td>6</td>\n",
       "    </tr>\n",
       "    <tr>\n",
       "      <th>1</th>\n",
       "      <td>1</td>\n",
       "      <td>../data/UrbanSound8K/slices_2d/fold1/57320-0-0...</td>\n",
       "      <td>0</td>\n",
       "    </tr>\n",
       "    <tr>\n",
       "      <th>2</th>\n",
       "      <td>2</td>\n",
       "      <td>../data/UrbanSound8K/slices_2d/fold1/57320-0-0...</td>\n",
       "      <td>0</td>\n",
       "    </tr>\n",
       "    <tr>\n",
       "      <th>3</th>\n",
       "      <td>3</td>\n",
       "      <td>../data/UrbanSound8K/slices_2d/fold1/57320-0-0...</td>\n",
       "      <td>0</td>\n",
       "    </tr>\n",
       "    <tr>\n",
       "      <th>4</th>\n",
       "      <td>4</td>\n",
       "      <td>../data/UrbanSound8K/slices_2d/fold1/57320-0-0...</td>\n",
       "      <td>0</td>\n",
       "    </tr>\n",
       "  </tbody>\n",
       "</table>\n",
       "</div>"
      ],
      "text/plain": [
       "   Unnamed: 0                                          file_path  classid\n",
       "0           0  ../data/UrbanSound8K/slices_2d/fold1/46654-6-0...        6\n",
       "1           1  ../data/UrbanSound8K/slices_2d/fold1/57320-0-0...        0\n",
       "2           2  ../data/UrbanSound8K/slices_2d/fold1/57320-0-0...        0\n",
       "3           3  ../data/UrbanSound8K/slices_2d/fold1/57320-0-0...        0\n",
       "4           4  ../data/UrbanSound8K/slices_2d/fold1/57320-0-0...        0"
      ]
     },
     "execution_count": 89,
     "metadata": {},
     "output_type": "execute_result"
    }
   ],
   "source": [
    "df = pd.read_csv('../data/UrbanSound8K/slices_2d/slice_2d_filenames.csv')\n",
    "df.head()"
   ]
  },
  {
   "cell_type": "code",
   "execution_count": 90,
   "id": "alert-iceland",
   "metadata": {
    "ExecuteTime": {
     "end_time": "2021-08-12T00:24:49.373002Z",
     "start_time": "2021-08-12T00:24:49.369003Z"
    }
   },
   "outputs": [
    {
     "data": {
      "text/plain": [
       "10"
      ]
     },
     "execution_count": 90,
     "metadata": {},
     "output_type": "execute_result"
    }
   ],
   "source": [
    "len(df['classid'].unique())"
   ]
  },
  {
   "cell_type": "code",
   "execution_count": 91,
   "id": "junior-republic",
   "metadata": {
    "ExecuteTime": {
     "end_time": "2021-08-12T00:24:49.982207Z",
     "start_time": "2021-08-12T00:24:49.795726Z"
    }
   },
   "outputs": [],
   "source": [
    "df['fold'] = [int(text[-2][-1]) for text in df['file_path'].str.split('/')]"
   ]
  },
  {
   "cell_type": "code",
   "execution_count": 92,
   "id": "forty-alabama",
   "metadata": {
    "ExecuteTime": {
     "end_time": "2021-08-12T00:24:50.266892Z",
     "start_time": "2021-08-12T00:24:50.259890Z"
    }
   },
   "outputs": [
    {
     "data": {
      "text/html": [
       "<div>\n",
       "<style scoped>\n",
       "    .dataframe tbody tr th:only-of-type {\n",
       "        vertical-align: middle;\n",
       "    }\n",
       "\n",
       "    .dataframe tbody tr th {\n",
       "        vertical-align: top;\n",
       "    }\n",
       "\n",
       "    .dataframe thead th {\n",
       "        text-align: right;\n",
       "    }\n",
       "</style>\n",
       "<table border=\"1\" class=\"dataframe\">\n",
       "  <thead>\n",
       "    <tr style=\"text-align: right;\">\n",
       "      <th></th>\n",
       "      <th>Unnamed: 0</th>\n",
       "      <th>file_path</th>\n",
       "      <th>classid</th>\n",
       "      <th>fold</th>\n",
       "    </tr>\n",
       "  </thead>\n",
       "  <tbody>\n",
       "    <tr>\n",
       "      <th>0</th>\n",
       "      <td>0</td>\n",
       "      <td>../data/UrbanSound8K/slices_2d/fold1/46654-6-0...</td>\n",
       "      <td>6</td>\n",
       "      <td>1</td>\n",
       "    </tr>\n",
       "    <tr>\n",
       "      <th>1</th>\n",
       "      <td>1</td>\n",
       "      <td>../data/UrbanSound8K/slices_2d/fold1/57320-0-0...</td>\n",
       "      <td>0</td>\n",
       "      <td>1</td>\n",
       "    </tr>\n",
       "    <tr>\n",
       "      <th>2</th>\n",
       "      <td>2</td>\n",
       "      <td>../data/UrbanSound8K/slices_2d/fold1/57320-0-0...</td>\n",
       "      <td>0</td>\n",
       "      <td>1</td>\n",
       "    </tr>\n",
       "    <tr>\n",
       "      <th>3</th>\n",
       "      <td>3</td>\n",
       "      <td>../data/UrbanSound8K/slices_2d/fold1/57320-0-0...</td>\n",
       "      <td>0</td>\n",
       "      <td>1</td>\n",
       "    </tr>\n",
       "    <tr>\n",
       "      <th>4</th>\n",
       "      <td>4</td>\n",
       "      <td>../data/UrbanSound8K/slices_2d/fold1/57320-0-0...</td>\n",
       "      <td>0</td>\n",
       "      <td>1</td>\n",
       "    </tr>\n",
       "  </tbody>\n",
       "</table>\n",
       "</div>"
      ],
      "text/plain": [
       "   Unnamed: 0                                          file_path  classid  \\\n",
       "0           0  ../data/UrbanSound8K/slices_2d/fold1/46654-6-0...        6   \n",
       "1           1  ../data/UrbanSound8K/slices_2d/fold1/57320-0-0...        0   \n",
       "2           2  ../data/UrbanSound8K/slices_2d/fold1/57320-0-0...        0   \n",
       "3           3  ../data/UrbanSound8K/slices_2d/fold1/57320-0-0...        0   \n",
       "4           4  ../data/UrbanSound8K/slices_2d/fold1/57320-0-0...        0   \n",
       "\n",
       "   fold  \n",
       "0     1  \n",
       "1     1  \n",
       "2     1  \n",
       "3     1  \n",
       "4     1  "
      ]
     },
     "execution_count": 92,
     "metadata": {},
     "output_type": "execute_result"
    }
   ],
   "source": [
    "df.head()"
   ]
  },
  {
   "cell_type": "code",
   "execution_count": 93,
   "id": "nasty-mount",
   "metadata": {
    "ExecuteTime": {
     "end_time": "2021-08-12T00:24:50.837847Z",
     "start_time": "2021-08-12T00:24:50.832960Z"
    }
   },
   "outputs": [],
   "source": [
    "class UrbanSoundDataset_Aug(Dataset):\n",
    "    def __init__(self, df, Aug=True):\n",
    "        self.df = df\n",
    "        self.Aug = Aug\n",
    "        self.fade = T.Fade(fade_in_len=1, fade_out_len=1, fade_shape='quarter_sine')\n",
    "        self.freq_masking = T.FrequencyMasking(freq_mask_param=2)\n",
    "    \n",
    "    def __len__(self):\n",
    "        return len(self.df)\n",
    "    \n",
    "    def __getitem__(self, idx):\n",
    "        row = self.df.iloc[idx]\n",
    "        x = np.load(row['file_path'])\n",
    "        x = torch.tensor(x).float()\n",
    "        \n",
    "        if self.Aug:\n",
    "            x = self.fade(x)\n",
    "            x = self.freq_masking(x)\n",
    "            \n",
    "        y = torch.tensor(row['classid'])\n",
    "        return x, y\n",
    "        "
   ]
  },
  {
   "cell_type": "code",
   "execution_count": 94,
   "id": "dimensional-identifier",
   "metadata": {
    "ExecuteTime": {
     "end_time": "2021-08-12T00:24:51.274041Z",
     "start_time": "2021-08-12T00:24:51.268118Z"
    }
   },
   "outputs": [],
   "source": [
    "df_train = df[df['fold'] < 8]"
   ]
  },
  {
   "cell_type": "code",
   "execution_count": 95,
   "id": "recent-percentage",
   "metadata": {
    "ExecuteTime": {
     "end_time": "2021-08-12T00:24:51.611948Z",
     "start_time": "2021-08-12T00:24:51.601262Z"
    }
   },
   "outputs": [],
   "source": [
    "df_val = df.drop(df_train.index)"
   ]
  },
  {
   "cell_type": "code",
   "execution_count": 96,
   "id": "aerial-discrimination",
   "metadata": {
    "ExecuteTime": {
     "end_time": "2021-08-12T00:24:51.979311Z",
     "start_time": "2021-08-12T00:24:51.975347Z"
    }
   },
   "outputs": [
    {
     "data": {
      "text/plain": [
       "(36175, 8100, 44275)"
      ]
     },
     "execution_count": 96,
     "metadata": {},
     "output_type": "execute_result"
    }
   ],
   "source": [
    "df_train.shape[0], df_val.shape[0], df.shape[0]"
   ]
  },
  {
   "cell_type": "code",
   "execution_count": 97,
   "id": "australian-truth",
   "metadata": {
    "ExecuteTime": {
     "end_time": "2021-08-12T00:24:52.588954Z",
     "start_time": "2021-08-12T00:24:52.583095Z"
    }
   },
   "outputs": [],
   "source": [
    "class CNN(nn.Module):\n",
    "    def __init__(self):\n",
    "        super().__init__()\n",
    "\n",
    "        self.conv1 = nn.Conv2d(in_channels=32, out_channels=64, kernel_size=2, padding=1)\n",
    "        self.conv2 = nn.Conv2d(in_channels=64, out_channels=128, kernel_size=2, padding=1)\n",
    "        \n",
    "        self.linear1 = nn.Linear(512, 100)\n",
    "        self.linear2 = nn.Linear(100, 10)\n",
    "        \n",
    "        self.pool = nn.MaxPool2d(kernel_size=2)\n",
    "        self.relu = nn.ReLU()\n",
    "        self.tanh = nn.Tanh()\n",
    "        self.flatten = nn.Flatten()\n",
    "        \n",
    "        self.dropout = nn.Dropout2d(p=0.2)\n",
    "        \n",
    "        \n",
    "    def forward(self, x):\n",
    "        # helpful to do this along the way sometimes!\n",
    "        #print(x.shape)\n",
    "        \n",
    "        x = self.conv1(x)\n",
    "        x = self.tanh(x)\n",
    "        x = self.pool(x)\n",
    "        \n",
    "        x = self.conv2(x)\n",
    "        x = self.tanh(x)\n",
    "        x = self.pool(x)\n",
    "\n",
    "        x = self.dropout(x)\n",
    "        x = self.flatten(x)\n",
    "        \n",
    "        # unroll x for FC layer\n",
    "        x = self.linear1(self.flatten(x))\n",
    "        x = self.relu(x)\n",
    "        x = self.linear2(x)\n",
    "        \n",
    "        return x"
   ]
  },
  {
   "cell_type": "code",
   "execution_count": 98,
   "id": "stupid-waste",
   "metadata": {
    "ExecuteTime": {
     "end_time": "2021-08-12T00:24:53.377831Z",
     "start_time": "2021-08-12T00:24:53.370573Z"
    }
   },
   "outputs": [
    {
     "name": "stdout",
     "output_type": "stream",
     "text": [
      "----------------------------------------------------------------\n",
      "        Layer (type)               Output Shape         Param #\n",
      "================================================================\n",
      "            Conv2d-1            [-1, 64, 17, 3]           8,256\n",
      "              Tanh-2            [-1, 64, 17, 3]               0\n",
      "         MaxPool2d-3             [-1, 64, 8, 1]               0\n",
      "            Conv2d-4            [-1, 128, 9, 2]          32,896\n",
      "              Tanh-5            [-1, 128, 9, 2]               0\n",
      "         MaxPool2d-6            [-1, 128, 4, 1]               0\n",
      "         Dropout2d-7            [-1, 128, 4, 1]               0\n",
      "           Flatten-8                  [-1, 512]               0\n",
      "           Flatten-9                  [-1, 512]               0\n",
      "           Linear-10                  [-1, 100]          51,300\n",
      "             ReLU-11                  [-1, 100]               0\n",
      "           Linear-12                   [-1, 10]           1,010\n",
      "================================================================\n",
      "Total params: 93,462\n",
      "Trainable params: 93,462\n",
      "Non-trainable params: 0\n",
      "----------------------------------------------------------------\n",
      "Input size (MB): 0.00\n",
      "Forward/backward pass size (MB): 0.11\n",
      "Params size (MB): 0.36\n",
      "Estimated Total Size (MB): 0.47\n",
      "----------------------------------------------------------------\n"
     ]
    }
   ],
   "source": [
    "model = CNN()\n",
    "from torchsummary import summary\n",
    "summary(model, input_size = (32, 16, 2), device='cpu')"
   ]
  },
  {
   "cell_type": "code",
   "execution_count": 99,
   "id": "exterior-functionality",
   "metadata": {
    "ExecuteTime": {
     "end_time": "2021-08-12T00:24:54.065247Z",
     "start_time": "2021-08-12T00:24:54.059538Z"
    }
   },
   "outputs": [],
   "source": [
    "def one_pass(model, dataloader, optimizer, lossFun, backwards=True, print_loss=False):\n",
    "    \n",
    "    if backwards == True:\n",
    "        model.train()\n",
    "    else:\n",
    "        model.eval()\n",
    "    \n",
    "    total_loss = 0.0\n",
    "    for x, y in tqdm(dataloader):\n",
    "        \n",
    "        y_pred = model(x)\n",
    "        loss = lossFun(y_pred, y)\n",
    "        total_loss += loss.item()\n",
    "        \n",
    "        if backwards == True:\n",
    "            optimizer.zero_grad()\n",
    "            loss.backward()\n",
    "            optimizer.step()\n",
    "    avg_loss = total_loss / len(dataloader)\n",
    "    \n",
    "    if print_loss == True:\n",
    "        print(avg_loss)\n",
    "    \n",
    "    return avg_loss\n",
    "\n",
    "def one_pass_acc(model, dataloader, num_points):\n",
    "    model.eval()\n",
    "    total_acc = []\n",
    "    \n",
    "    softmax = nn.Softmax(dim=1)\n",
    "    \n",
    "    for x, y in dataloader:\n",
    "        y_pred = softmax(model(x))\n",
    "        y_pred = torch.argmax(y_pred, dim=1)\n",
    "        \n",
    "        acc = 1 - (torch.count_nonzero(y - y_pred).item() / y.shape[0])\n",
    "        \n",
    "        total_acc.append(acc)\n",
    "        \n",
    "    return round(np.mean(total_acc),2)"
   ]
  },
  {
   "cell_type": "code",
   "execution_count": 100,
   "id": "recorded-perry",
   "metadata": {
    "ExecuteTime": {
     "end_time": "2021-08-12T00:24:54.695156Z",
     "start_time": "2021-08-12T00:24:54.689723Z"
    }
   },
   "outputs": [],
   "source": [
    "from tqdm.notebook import tqdm\n",
    "def train_epoch(num_epochs, model, dl_train1, dl_train2, dl_val, optimizer, lossFun, ds_train1, ds_train2, ds_val):\n",
    "    train_losses = []\n",
    "    valid_losses = []\n",
    "    train_accs = []\n",
    "    valid_accs = []\n",
    "\n",
    "    for epoch in tqdm(range(num_epochs)):\n",
    "        print('Epoch: ', epoch)\n",
    "\n",
    "        train_loss = one_pass(model, dl_train1, optimizer, lossFun)\n",
    "        train_losses.append(train_loss)\n",
    "        print('Train loss: ', train_loss)\n",
    "\n",
    "        train_loss = one_pass(model, dl_train2, optimizer, lossFun)\n",
    "        train_losses.append(train_loss)\n",
    "        print('Train loss: ', train_loss)\n",
    "        \n",
    "        valid_loss = one_pass(model, dl_val, optimizer, lossFun, backwards=False)\n",
    "        valid_losses.append(valid_loss)\n",
    "        print('Valid loss: ', valid_loss)\n",
    "\n",
    "        train_acc = one_pass_acc(model, dl_train2, len(ds_train2))\n",
    "        train_accs.append(train_acc)\n",
    "        \n",
    "        valid_acc = one_pass_acc(model, dl_val, len(ds_val))\n",
    "        valid_accs.append(valid_acc)\n",
    "        print('Train Acc: ', train_acc)\n",
    "        print('Valid Acc: ', valid_acc)\n",
    "    \n",
    "    return train_losses, valid_losses, train_accs, valid_accs\n",
    "    "
   ]
  },
  {
   "cell_type": "code",
   "execution_count": 101,
   "id": "waiting-universe",
   "metadata": {
    "ExecuteTime": {
     "end_time": "2021-08-12T00:24:55.127892Z",
     "start_time": "2021-08-12T00:24:55.125529Z"
    }
   },
   "outputs": [],
   "source": [
    "import seaborn as sns"
   ]
  },
  {
   "cell_type": "code",
   "execution_count": 102,
   "id": "direct-aurora",
   "metadata": {
    "ExecuteTime": {
     "end_time": "2021-08-12T00:24:55.641871Z",
     "start_time": "2021-08-12T00:24:55.637237Z"
    }
   },
   "outputs": [],
   "source": [
    "def plot_results(train_loss, val_loss, train_acc, val_acc):\n",
    "    sns.set_theme()\n",
    "    fig, axes = plt.subplots(1,2, figsize=(15,5))\n",
    "    axes[0].plot(train_loss, label='train')\n",
    "    axes[0].plot(val_loss, label='validation')\n",
    "    axes[0].set_xlabel('Epoch')\n",
    "    axes[0].set_ylabel('Losses')\n",
    "    axes[0].legend()\n",
    "    \n",
    "    axes[1].plot(train_acc, label='train')\n",
    "    axes[1].plot(val_acc, label='validation')\n",
    "    axes[1].set_xlabel('Epoch')\n",
    "    axes[1].set_ylabel('Accuracy')\n",
    "    axes[1].legend()\n",
    "\n",
    "    plt.show()"
   ]
  },
  {
   "cell_type": "code",
   "execution_count": 103,
   "id": "statutory-producer",
   "metadata": {
    "ExecuteTime": {
     "end_time": "2021-08-12T00:24:56.165440Z",
     "start_time": "2021-08-12T00:24:56.161641Z"
    }
   },
   "outputs": [],
   "source": [
    "ds_train_Aug = UrbanSoundDataset_Aug(df_train, Aug=True)\n",
    "ds_train_No_Aug = UrbanSoundDataset_Aug(df_train, Aug=False)\n",
    "ds_val = UrbanSoundDataset_Aug(df_val, Aug=False)\n",
    "dl_train_Aug = DataLoader(ds_train_Aug, batch_size=100, shuffle=True)\n",
    "dl_train_No_Aug = DataLoader(ds_train_No_Aug, batch_size=100, shuffle=True)\n",
    "dl_val = DataLoader(ds_train, batch_size=100, shuffle=False)"
   ]
  },
  {
   "cell_type": "code",
   "execution_count": 104,
   "id": "enhanced-anniversary",
   "metadata": {
    "ExecuteTime": {
     "end_time": "2021-08-12T00:51:03.102158Z",
     "start_time": "2021-08-12T00:24:57.935217Z"
    }
   },
   "outputs": [
    {
     "data": {
      "application/vnd.jupyter.widget-view+json": {
       "model_id": "aa6ff48f31a340a3ab38cd200d036de7",
       "version_major": 2,
       "version_minor": 0
      },
      "text/plain": [
       "  0%|          | 0/10 [00:00<?, ?it/s]"
      ]
     },
     "metadata": {},
     "output_type": "display_data"
    },
    {
     "name": "stdout",
     "output_type": "stream",
     "text": [
      "Epoch:  0\n"
     ]
    },
    {
     "data": {
      "application/vnd.jupyter.widget-view+json": {
       "model_id": "35192907e5644bc88d028fe78f3d4999",
       "version_major": 2,
       "version_minor": 0
      },
      "text/plain": [
       "  0%|          | 0/362 [00:00<?, ?it/s]"
      ]
     },
     "metadata": {},
     "output_type": "display_data"
    },
    {
     "name": "stdout",
     "output_type": "stream",
     "text": [
      "Train loss:  1.809145790766616\n"
     ]
    },
    {
     "data": {
      "application/vnd.jupyter.widget-view+json": {
       "model_id": "a172c586670b4ed38baf7f4d63da2976",
       "version_major": 2,
       "version_minor": 0
      },
      "text/plain": [
       "  0%|          | 0/362 [00:00<?, ?it/s]"
      ]
     },
     "metadata": {},
     "output_type": "display_data"
    },
    {
     "name": "stdout",
     "output_type": "stream",
     "text": [
      "Train loss:  1.4183488135838378\n"
     ]
    },
    {
     "data": {
      "application/vnd.jupyter.widget-view+json": {
       "model_id": "6efe40ca2f60498bb3f60a32f314e9e8",
       "version_major": 2,
       "version_minor": 0
      },
      "text/plain": [
       "  0%|          | 0/362 [00:00<?, ?it/s]"
      ]
     },
     "metadata": {},
     "output_type": "display_data"
    },
    {
     "name": "stdout",
     "output_type": "stream",
     "text": [
      "Valid loss:  2.4978619599869236\n",
      "Train Acc:  0.56\n",
      "Valid Acc:  0.18\n",
      "Epoch:  1\n"
     ]
    },
    {
     "data": {
      "application/vnd.jupyter.widget-view+json": {
       "model_id": "5453b05290f34cdaa84e959926186e84",
       "version_major": 2,
       "version_minor": 0
      },
      "text/plain": [
       "  0%|          | 0/362 [00:00<?, ?it/s]"
      ]
     },
     "metadata": {},
     "output_type": "display_data"
    },
    {
     "name": "stdout",
     "output_type": "stream",
     "text": [
      "Train loss:  1.3291515210715448\n"
     ]
    },
    {
     "data": {
      "application/vnd.jupyter.widget-view+json": {
       "model_id": "97679a4a1e1a4de995f7f7241adbca49",
       "version_major": 2,
       "version_minor": 0
      },
      "text/plain": [
       "  0%|          | 0/362 [00:00<?, ?it/s]"
      ]
     },
     "metadata": {},
     "output_type": "display_data"
    },
    {
     "name": "stdout",
     "output_type": "stream",
     "text": [
      "Train loss:  1.0833101463581316\n"
     ]
    },
    {
     "data": {
      "application/vnd.jupyter.widget-view+json": {
       "model_id": "809c4fb8326646fca2bff69cea66199e",
       "version_major": 2,
       "version_minor": 0
      },
      "text/plain": [
       "  0%|          | 0/362 [00:00<?, ?it/s]"
      ]
     },
     "metadata": {},
     "output_type": "display_data"
    },
    {
     "name": "stdout",
     "output_type": "stream",
     "text": [
      "Valid loss:  2.08678853100176\n",
      "Train Acc:  0.67\n",
      "Valid Acc:  0.3\n",
      "Epoch:  2\n"
     ]
    },
    {
     "data": {
      "application/vnd.jupyter.widget-view+json": {
       "model_id": "8d68286f76bd4068b50f51e88c31f5a3",
       "version_major": 2,
       "version_minor": 0
      },
      "text/plain": [
       "  0%|          | 0/362 [00:00<?, ?it/s]"
      ]
     },
     "metadata": {},
     "output_type": "display_data"
    },
    {
     "name": "stdout",
     "output_type": "stream",
     "text": [
      "Train loss:  1.1251022598361442\n"
     ]
    },
    {
     "data": {
      "application/vnd.jupyter.widget-view+json": {
       "model_id": "3d772a09fd284dda9740fc9e61cd9762",
       "version_major": 2,
       "version_minor": 0
      },
      "text/plain": [
       "  0%|          | 0/362 [00:00<?, ?it/s]"
      ]
     },
     "metadata": {},
     "output_type": "display_data"
    },
    {
     "name": "stdout",
     "output_type": "stream",
     "text": [
      "Train loss:  0.889771246943026\n"
     ]
    },
    {
     "data": {
      "application/vnd.jupyter.widget-view+json": {
       "model_id": "13acd7644b53410a8549cd0ddc6effae",
       "version_major": 2,
       "version_minor": 0
      },
      "text/plain": [
       "  0%|          | 0/362 [00:00<?, ?it/s]"
      ]
     },
     "metadata": {},
     "output_type": "display_data"
    },
    {
     "name": "stdout",
     "output_type": "stream",
     "text": [
      "Valid loss:  1.5174834767757859\n",
      "Train Acc:  0.74\n",
      "Valid Acc:  0.48\n",
      "Epoch:  3\n"
     ]
    },
    {
     "data": {
      "application/vnd.jupyter.widget-view+json": {
       "model_id": "845aae364e8a406a99a10729d89cca86",
       "version_major": 2,
       "version_minor": 0
      },
      "text/plain": [
       "  0%|          | 0/362 [00:00<?, ?it/s]"
      ]
     },
     "metadata": {},
     "output_type": "display_data"
    },
    {
     "name": "stdout",
     "output_type": "stream",
     "text": [
      "Train loss:  0.9716543989945512\n"
     ]
    },
    {
     "data": {
      "application/vnd.jupyter.widget-view+json": {
       "model_id": "e74fc7eb0c2941f8b71c0dc01fdbd14e",
       "version_major": 2,
       "version_minor": 0
      },
      "text/plain": [
       "  0%|          | 0/362 [00:00<?, ?it/s]"
      ]
     },
     "metadata": {},
     "output_type": "display_data"
    },
    {
     "name": "stdout",
     "output_type": "stream",
     "text": [
      "Train loss:  0.7531281191835087\n"
     ]
    },
    {
     "data": {
      "application/vnd.jupyter.widget-view+json": {
       "model_id": "b90ac9059262476a82cb2f072564bb79",
       "version_major": 2,
       "version_minor": 0
      },
      "text/plain": [
       "  0%|          | 0/362 [00:00<?, ?it/s]"
      ]
     },
     "metadata": {},
     "output_type": "display_data"
    },
    {
     "name": "stdout",
     "output_type": "stream",
     "text": [
      "Valid loss:  1.1000095488534447\n",
      "Train Acc:  0.78\n",
      "Valid Acc:  0.63\n",
      "Epoch:  4\n"
     ]
    },
    {
     "data": {
      "application/vnd.jupyter.widget-view+json": {
       "model_id": "89269ef1d4824ec29e15ebf68d0c7e3f",
       "version_major": 2,
       "version_minor": 0
      },
      "text/plain": [
       "  0%|          | 0/362 [00:00<?, ?it/s]"
      ]
     },
     "metadata": {},
     "output_type": "display_data"
    },
    {
     "name": "stdout",
     "output_type": "stream",
     "text": [
      "Train loss:  0.8491923621346279\n"
     ]
    },
    {
     "data": {
      "application/vnd.jupyter.widget-view+json": {
       "model_id": "67c367fc24ff424285a5b0672574dd70",
       "version_major": 2,
       "version_minor": 0
      },
      "text/plain": [
       "  0%|          | 0/362 [00:00<?, ?it/s]"
      ]
     },
     "metadata": {},
     "output_type": "display_data"
    },
    {
     "name": "stdout",
     "output_type": "stream",
     "text": [
      "Train loss:  0.6393408644429887\n"
     ]
    },
    {
     "data": {
      "application/vnd.jupyter.widget-view+json": {
       "model_id": "526cf5f1bbca4a83bb27845f72ebf67f",
       "version_major": 2,
       "version_minor": 0
      },
      "text/plain": [
       "  0%|          | 0/362 [00:00<?, ?it/s]"
      ]
     },
     "metadata": {},
     "output_type": "display_data"
    },
    {
     "name": "stdout",
     "output_type": "stream",
     "text": [
      "Valid loss:  0.9112293078919143\n",
      "Train Acc:  0.81\n",
      "Valid Acc:  0.69\n",
      "Epoch:  5\n"
     ]
    },
    {
     "data": {
      "application/vnd.jupyter.widget-view+json": {
       "model_id": "740a546da769401882be38e8c913cc9a",
       "version_major": 2,
       "version_minor": 0
      },
      "text/plain": [
       "  0%|          | 0/362 [00:00<?, ?it/s]"
      ]
     },
     "metadata": {},
     "output_type": "display_data"
    },
    {
     "name": "stdout",
     "output_type": "stream",
     "text": [
      "Train loss:  0.7631844119143091\n"
     ]
    },
    {
     "data": {
      "application/vnd.jupyter.widget-view+json": {
       "model_id": "605790a37bf8426eb4a36a3e61c10d84",
       "version_major": 2,
       "version_minor": 0
      },
      "text/plain": [
       "  0%|          | 0/362 [00:00<?, ?it/s]"
      ]
     },
     "metadata": {},
     "output_type": "display_data"
    },
    {
     "name": "stdout",
     "output_type": "stream",
     "text": [
      "Train loss:  0.5525670349597931\n"
     ]
    },
    {
     "data": {
      "application/vnd.jupyter.widget-view+json": {
       "model_id": "84648492e286482db5680c48ae966e6a",
       "version_major": 2,
       "version_minor": 0
      },
      "text/plain": [
       "  0%|          | 0/362 [00:00<?, ?it/s]"
      ]
     },
     "metadata": {},
     "output_type": "display_data"
    },
    {
     "name": "stdout",
     "output_type": "stream",
     "text": [
      "Valid loss:  0.7785681903526928\n",
      "Train Acc:  0.84\n",
      "Valid Acc:  0.73\n",
      "Epoch:  6\n"
     ]
    },
    {
     "data": {
      "application/vnd.jupyter.widget-view+json": {
       "model_id": "e27c42ac231448828ab0a54fe6d4ee96",
       "version_major": 2,
       "version_minor": 0
      },
      "text/plain": [
       "  0%|          | 0/362 [00:00<?, ?it/s]"
      ]
     },
     "metadata": {},
     "output_type": "display_data"
    },
    {
     "name": "stdout",
     "output_type": "stream",
     "text": [
      "Train loss:  0.6809709128918568\n"
     ]
    },
    {
     "data": {
      "application/vnd.jupyter.widget-view+json": {
       "model_id": "353fbec7f6654982927f0d065835f767",
       "version_major": 2,
       "version_minor": 0
      },
      "text/plain": [
       "  0%|          | 0/362 [00:00<?, ?it/s]"
      ]
     },
     "metadata": {},
     "output_type": "display_data"
    },
    {
     "name": "stdout",
     "output_type": "stream",
     "text": [
      "Train loss:  0.4847366200626226\n"
     ]
    },
    {
     "data": {
      "application/vnd.jupyter.widget-view+json": {
       "model_id": "d2a0f4f5e25849cbb2627e4e6e3dfeeb",
       "version_major": 2,
       "version_minor": 0
      },
      "text/plain": [
       "  0%|          | 0/362 [00:00<?, ?it/s]"
      ]
     },
     "metadata": {},
     "output_type": "display_data"
    },
    {
     "name": "stdout",
     "output_type": "stream",
     "text": [
      "Valid loss:  0.7426001136885823\n",
      "Train Acc:  0.86\n",
      "Valid Acc:  0.75\n",
      "Epoch:  7\n"
     ]
    },
    {
     "data": {
      "application/vnd.jupyter.widget-view+json": {
       "model_id": "550366ade3a5405f872c9c41c91b1dce",
       "version_major": 2,
       "version_minor": 0
      },
      "text/plain": [
       "  0%|          | 0/362 [00:00<?, ?it/s]"
      ]
     },
     "metadata": {},
     "output_type": "display_data"
    },
    {
     "name": "stdout",
     "output_type": "stream",
     "text": [
      "Train loss:  0.6240916151697464\n"
     ]
    },
    {
     "data": {
      "application/vnd.jupyter.widget-view+json": {
       "model_id": "07888fb379d2431aabc1976fa74d7f18",
       "version_major": 2,
       "version_minor": 0
      },
      "text/plain": [
       "  0%|          | 0/362 [00:00<?, ?it/s]"
      ]
     },
     "metadata": {},
     "output_type": "display_data"
    },
    {
     "name": "stdout",
     "output_type": "stream",
     "text": [
      "Train loss:  0.4339557311482192\n"
     ]
    },
    {
     "data": {
      "application/vnd.jupyter.widget-view+json": {
       "model_id": "d53fdd2b98c3468096be2a6052289874",
       "version_major": 2,
       "version_minor": 0
      },
      "text/plain": [
       "  0%|          | 0/362 [00:00<?, ?it/s]"
      ]
     },
     "metadata": {},
     "output_type": "display_data"
    },
    {
     "name": "stdout",
     "output_type": "stream",
     "text": [
      "Valid loss:  0.6752111354832491\n",
      "Train Acc:  0.88\n",
      "Valid Acc:  0.76\n",
      "Epoch:  8\n"
     ]
    },
    {
     "data": {
      "application/vnd.jupyter.widget-view+json": {
       "model_id": "01dd5f56fc9249f58deea396072389b2",
       "version_major": 2,
       "version_minor": 0
      },
      "text/plain": [
       "  0%|          | 0/362 [00:00<?, ?it/s]"
      ]
     },
     "metadata": {},
     "output_type": "display_data"
    },
    {
     "name": "stdout",
     "output_type": "stream",
     "text": [
      "Train loss:  0.5740009713403428\n"
     ]
    },
    {
     "data": {
      "application/vnd.jupyter.widget-view+json": {
       "model_id": "34834130bd5e4041accfbfd1e899a52d",
       "version_major": 2,
       "version_minor": 0
      },
      "text/plain": [
       "  0%|          | 0/362 [00:00<?, ?it/s]"
      ]
     },
     "metadata": {},
     "output_type": "display_data"
    },
    {
     "name": "stdout",
     "output_type": "stream",
     "text": [
      "Train loss:  0.391314042989391\n"
     ]
    },
    {
     "data": {
      "application/vnd.jupyter.widget-view+json": {
       "model_id": "cd0ce4629e76446593fdcedfbbfb6023",
       "version_major": 2,
       "version_minor": 0
      },
      "text/plain": [
       "  0%|          | 0/362 [00:00<?, ?it/s]"
      ]
     },
     "metadata": {},
     "output_type": "display_data"
    },
    {
     "name": "stdout",
     "output_type": "stream",
     "text": [
      "Valid loss:  0.6696286350488663\n",
      "Train Acc:  0.9\n",
      "Valid Acc:  0.76\n",
      "Epoch:  9\n"
     ]
    },
    {
     "data": {
      "application/vnd.jupyter.widget-view+json": {
       "model_id": "8023c033e96746a3a44ba0ba2b1d5f36",
       "version_major": 2,
       "version_minor": 0
      },
      "text/plain": [
       "  0%|          | 0/362 [00:00<?, ?it/s]"
      ]
     },
     "metadata": {},
     "output_type": "display_data"
    },
    {
     "name": "stdout",
     "output_type": "stream",
     "text": [
      "Train loss:  0.5326901144085668\n"
     ]
    },
    {
     "data": {
      "application/vnd.jupyter.widget-view+json": {
       "model_id": "a571d0ae39734ba18f7dce2f16cbe656",
       "version_major": 2,
       "version_minor": 0
      },
      "text/plain": [
       "  0%|          | 0/362 [00:00<?, ?it/s]"
      ]
     },
     "metadata": {},
     "output_type": "display_data"
    },
    {
     "name": "stdout",
     "output_type": "stream",
     "text": [
      "Train loss:  0.3514014553710901\n"
     ]
    },
    {
     "data": {
      "application/vnd.jupyter.widget-view+json": {
       "model_id": "1b4f7fb3f0f2412b9cb681a55479fecf",
       "version_major": 2,
       "version_minor": 0
      },
      "text/plain": [
       "  0%|          | 0/362 [00:00<?, ?it/s]"
      ]
     },
     "metadata": {},
     "output_type": "display_data"
    },
    {
     "name": "stdout",
     "output_type": "stream",
     "text": [
      "Valid loss:  0.6462956727971194\n",
      "Train Acc:  0.91\n",
      "Valid Acc:  0.77\n"
     ]
    }
   ],
   "source": [
    "num_epoch = 10\n",
    "model = CNN()\n",
    "optimizer = torch.optim.AdamW(model.parameters(), lr=0.0005)\n",
    "lossFun = nn.CrossEntropyLoss()\n",
    "\n",
    "train_losses, valid_losses, train_accs, valid_accs = train_epoch(num_epoch, model, \n",
    "                                                                 dl_train_Aug, \n",
    "                                                                 dl_train_No_Aug,\n",
    "                                                                 dl_val, \n",
    "                                                                 optimizer, \n",
    "                                                                 lossFun, \n",
    "                                                                 ds_train_Aug,\n",
    "                                                                 ds_train_No_Aug,\n",
    "                                                                 ds_val)"
   ]
  },
  {
   "cell_type": "code",
   "execution_count": 105,
   "id": "according-submission",
   "metadata": {
    "ExecuteTime": {
     "end_time": "2021-08-12T00:51:03.477154Z",
     "start_time": "2021-08-12T00:51:03.136261Z"
    }
   },
   "outputs": [
    {
     "data": {
      "image/png": "[encoded data removed]",
      "text/plain": [
       "<Figure size 1080x360 with 2 Axes>"
      ]
     },
     "metadata": {},
     "output_type": "display_data"
    }
   ],
   "source": [
    "plot_results(train_losses, valid_losses, train_accs, valid_accs)"
   ]
  },
  {
   "cell_type": "code",
   "execution_count": 106,
   "id": "established-oliver",
   "metadata": {
    "ExecuteTime": {
     "end_time": "2021-08-12T00:53:00.726745Z",
     "start_time": "2021-08-12T00:53:00.723330Z"
    }
   },
   "outputs": [
    {
     "data": {
      "text/plain": [
       "[1.809145790766616,\n",
       " 1.4183488135838378,\n",
       " 1.3291515210715448,\n",
       " 1.0833101463581316,\n",
       " 1.1251022598361442,\n",
       " 0.889771246943026,\n",
       " 0.9716543989945512,\n",
       " 0.7531281191835087,\n",
       " 0.8491923621346279,\n",
       " 0.6393408644429887,\n",
       " 0.7631844119143091,\n",
       " 0.5525670349597931,\n",
       " 0.6809709128918568,\n",
       " 0.4847366200626226,\n",
       " 0.6240916151697464,\n",
       " 0.4339557311482192,\n",
       " 0.5740009713403428,\n",
       " 0.391314042989391,\n",
       " 0.5326901144085668,\n",
       " 0.3514014553710901]"
      ]
     },
     "execution_count": 106,
     "metadata": {},
     "output_type": "execute_result"
    }
   ],
   "source": [
    "train_losses"
   ]
  },
  {
   "cell_type": "code",
   "execution_count": 108,
   "id": "ecological-earthquake",
   "metadata": {
    "ExecuteTime": {
     "end_time": "2021-08-12T00:56:40.072982Z",
     "start_time": "2021-08-12T00:56:40.070099Z"
    }
   },
   "outputs": [],
   "source": [
    "train_avg = []\n",
    "for i in range(0, len(train_losses), 2):\n",
    "    avg = (train_losses[i] + train_losses[i+1]) / 2 \n",
    "    train_avg.append(avg)"
   ]
  },
  {
   "cell_type": "code",
   "execution_count": 109,
   "id": "emerging-distance",
   "metadata": {
    "ExecuteTime": {
     "end_time": "2021-08-12T00:56:43.172312Z",
     "start_time": "2021-08-12T00:56:43.168676Z"
    }
   },
   "outputs": [
    {
     "data": {
      "text/plain": [
       "[1.6137473021752269,\n",
       " 1.2062308337148382,\n",
       " 1.0074367533895852,\n",
       " 0.8623912590890299,\n",
       " 0.7442666132888083,\n",
       " 0.6578757234370511,\n",
       " 0.5828537664772397,\n",
       " 0.5290236731589828,\n",
       " 0.4826575071648669,\n",
       " 0.4420457848898285]"
      ]
     },
     "execution_count": 109,
     "metadata": {},
     "output_type": "execute_result"
    }
   ],
   "source": [
    "train_avg"
   ]
  },
  {
   "cell_type": "code",
   "execution_count": 110,
   "id": "typical-malta",
   "metadata": {
    "ExecuteTime": {
     "end_time": "2021-08-12T00:56:57.041105Z",
     "start_time": "2021-08-12T00:56:56.776133Z"
    }
   },
   "outputs": [
    {
     "data": {
      "image/png": "[encoded data removed]",
      "text/plain": [
       "<Figure size 1080x360 with 2 Axes>"
      ]
     },
     "metadata": {},
     "output_type": "display_data"
    }
   ],
   "source": [
    "plot_results(train_avg, valid_losses, train_accs, valid_accs)"
   ]
  },
  {
   "cell_type": "code",
   "execution_count": 111,
   "id": "ancient-upper",
   "metadata": {
    "ExecuteTime": {
     "end_time": "2021-08-12T02:25:26.187380Z",
     "start_time": "2021-08-12T02:25:26.181709Z"
    }
   },
   "outputs": [],
   "source": [
    "def plot_results(train_loss, val_loss, train_acc, val_acc, save=False):\n",
    "    sns.set_theme()\n",
    "    fig, axes = plt.subplots(1,2, figsize=(15,5))\n",
    "    axes[0].plot(train_loss, label='train')\n",
    "    axes[0].plot(val_loss, label='validation')\n",
    "    axes[0].set_xlabel('Epoch')\n",
    "    axes[0].set_ylabel('Losses')\n",
    "    axes[0].legend()\n",
    "    \n",
    "    axes[1].plot(train_acc, label='train')\n",
    "    axes[1].plot(val_acc, label='validation')\n",
    "    axes[1].set_xlabel('Epoch')\n",
    "    axes[1].set_ylabel('Accuracy')\n",
    "    axes[1].legend()\n",
    "    \n",
    "    if save:\n",
    "        plt.savefig('3d_with_augmentation', dpi=150)"
   ]
  },
  {
   "cell_type": "code",
   "execution_count": 113,
   "id": "military-comparison",
   "metadata": {
    "ExecuteTime": {
     "end_time": "2021-08-12T02:25:46.221290Z",
     "start_time": "2021-08-12T02:25:45.810607Z"
    }
   },
   "outputs": [
    {
     "data": {
      "image/png": "[encoded data removed]",
      "text/plain": [
       "<Figure size 1080x360 with 2 Axes>"
      ]
     },
     "metadata": {},
     "output_type": "display_data"
    }
   ],
   "source": [
    "plot_results(train_avg, valid_losses, train_accs, valid_accs, save=True)"
   ]
  },
  {
   "cell_type": "code",
   "execution_count": null,
   "id": "funded-combat",
   "metadata": {},
   "outputs": [],
   "source": []
  }
 ],
 "metadata": {
  "kernelspec": {
   "display_name": "Python 3",
   "language": "python",
   "name": "python3"
  },
  "language_info": {
   "codemirror_mode": {
    "name": "ipython",
    "version": 3
   },
   "file_extension": ".py",
   "mimetype": "text/x-python",
   "name": "python",
   "nbconvert_exporter": "python",
   "pygments_lexer": "ipython3",
   "version": "3.8.2"
  },
  "toc": {
   "base_numbering": 1,
   "nav_menu": {},
   "number_sections": true,
   "sideBar": true,
   "skip_h1_title": false,
   "title_cell": "Table of Contents",
   "title_sidebar": "Contents",
   "toc_cell": false,
   "toc_position": {},
   "toc_section_display": true,
   "toc_window_display": false
  },
  "varInspector": {
   "cols": {
    "lenName": 16,
    "lenType": 16,
    "lenVar": 40
   },
   "kernels_config": {
    "python": {
     "delete_cmd_postfix": "",
     "delete_cmd_prefix": "del ",
     "library": "var_list.py",
     "varRefreshCmd": "print(var_dic_list())"
    },
    "r": {
     "delete_cmd_postfix": ") ",
     "delete_cmd_prefix": "rm(",
     "library": "var_list.r",
     "varRefreshCmd": "cat(var_dic_list()) "
    }
   },
   "types_to_exclude": [
    "module",
    "function",
    "builtin_function_or_method",
    "instance",
    "_Feature"
   ],
   "window_display": false
  }
 },
 "nbformat": 4,
 "nbformat_minor": 5
}
