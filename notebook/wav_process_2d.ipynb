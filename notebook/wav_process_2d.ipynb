{
 "cells": [
  {
   "cell_type": "code",
   "execution_count": 1,
   "metadata": {},
   "outputs": [],
   "source": [
    "import sys\n",
    "import os\n",
    "import numpy as np\n",
    "import time\n",
    "from pathlib import Path\n",
    "from matplotlib import pyplot as plt\n",
    "\n",
    "import librosa\n",
    "from librosa.display import specshow\n",
    "import pandas as pd\n",
    "#from parameter_input import *"
   ]
  },
  {
   "cell_type": "code",
   "execution_count": 2,
   "metadata": {},
   "outputs": [],
   "source": [
    "SAMPLING_RATE = 44100\n",
    "HOPS_PER_SEC = 32\n",
    "HOP_LENGTH = int(SAMPLING_RATE / HOPS_PER_SEC)\n",
    "OFFSET = 0\n",
    "WIN_SEC = 1\n",
    "N_MELS = 16\n",
    "SLICE_LENGTH = 1"
   ]
  },
  {
   "cell_type": "code",
   "execution_count": 3,
   "metadata": {},
   "outputs": [],
   "source": [
    "### input audio and load model\n",
    "\n",
    "#test_path = sys.argv[1]\n",
    "test_path = '../tiny_data/7383-3-0-0.wav'"
   ]
  },
  {
   "cell_type": "code",
   "execution_count": 4,
   "metadata": {},
   "outputs": [
    {
     "data": {
      "text/html": [
       "<div>\n",
       "<style scoped>\n",
       "    .dataframe tbody tr th:only-of-type {\n",
       "        vertical-align: middle;\n",
       "    }\n",
       "\n",
       "    .dataframe tbody tr th {\n",
       "        vertical-align: top;\n",
       "    }\n",
       "\n",
       "    .dataframe thead th {\n",
       "        text-align: right;\n",
       "    }\n",
       "</style>\n",
       "<table border=\"1\" class=\"dataframe\">\n",
       "  <thead>\n",
       "    <tr style=\"text-align: right;\">\n",
       "      <th></th>\n",
       "      <th>slice_file_name</th>\n",
       "      <th>fsID</th>\n",
       "      <th>start</th>\n",
       "      <th>end</th>\n",
       "      <th>salience</th>\n",
       "      <th>fold</th>\n",
       "      <th>classID</th>\n",
       "      <th>class</th>\n",
       "    </tr>\n",
       "  </thead>\n",
       "  <tbody>\n",
       "    <tr>\n",
       "      <th>0</th>\n",
       "      <td>100032-3-0-0.wav</td>\n",
       "      <td>100032</td>\n",
       "      <td>0.000000</td>\n",
       "      <td>0.317551</td>\n",
       "      <td>1</td>\n",
       "      <td>5</td>\n",
       "      <td>3</td>\n",
       "      <td>dog_bark</td>\n",
       "    </tr>\n",
       "    <tr>\n",
       "      <th>1</th>\n",
       "      <td>100263-2-0-117.wav</td>\n",
       "      <td>100263</td>\n",
       "      <td>58.500000</td>\n",
       "      <td>62.500000</td>\n",
       "      <td>1</td>\n",
       "      <td>5</td>\n",
       "      <td>2</td>\n",
       "      <td>children_playing</td>\n",
       "    </tr>\n",
       "    <tr>\n",
       "      <th>2</th>\n",
       "      <td>100263-2-0-121.wav</td>\n",
       "      <td>100263</td>\n",
       "      <td>60.500000</td>\n",
       "      <td>64.500000</td>\n",
       "      <td>1</td>\n",
       "      <td>5</td>\n",
       "      <td>2</td>\n",
       "      <td>children_playing</td>\n",
       "    </tr>\n",
       "    <tr>\n",
       "      <th>3</th>\n",
       "      <td>100263-2-0-126.wav</td>\n",
       "      <td>100263</td>\n",
       "      <td>63.000000</td>\n",
       "      <td>67.000000</td>\n",
       "      <td>1</td>\n",
       "      <td>5</td>\n",
       "      <td>2</td>\n",
       "      <td>children_playing</td>\n",
       "    </tr>\n",
       "    <tr>\n",
       "      <th>4</th>\n",
       "      <td>100263-2-0-137.wav</td>\n",
       "      <td>100263</td>\n",
       "      <td>68.500000</td>\n",
       "      <td>72.500000</td>\n",
       "      <td>1</td>\n",
       "      <td>5</td>\n",
       "      <td>2</td>\n",
       "      <td>children_playing</td>\n",
       "    </tr>\n",
       "    <tr>\n",
       "      <th>...</th>\n",
       "      <td>...</td>\n",
       "      <td>...</td>\n",
       "      <td>...</td>\n",
       "      <td>...</td>\n",
       "      <td>...</td>\n",
       "      <td>...</td>\n",
       "      <td>...</td>\n",
       "      <td>...</td>\n",
       "    </tr>\n",
       "    <tr>\n",
       "      <th>8727</th>\n",
       "      <td>99812-1-2-0.wav</td>\n",
       "      <td>99812</td>\n",
       "      <td>159.522205</td>\n",
       "      <td>163.522205</td>\n",
       "      <td>2</td>\n",
       "      <td>7</td>\n",
       "      <td>1</td>\n",
       "      <td>car_horn</td>\n",
       "    </tr>\n",
       "    <tr>\n",
       "      <th>8728</th>\n",
       "      <td>99812-1-3-0.wav</td>\n",
       "      <td>99812</td>\n",
       "      <td>181.142431</td>\n",
       "      <td>183.284976</td>\n",
       "      <td>2</td>\n",
       "      <td>7</td>\n",
       "      <td>1</td>\n",
       "      <td>car_horn</td>\n",
       "    </tr>\n",
       "    <tr>\n",
       "      <th>8729</th>\n",
       "      <td>99812-1-4-0.wav</td>\n",
       "      <td>99812</td>\n",
       "      <td>242.691902</td>\n",
       "      <td>246.197885</td>\n",
       "      <td>2</td>\n",
       "      <td>7</td>\n",
       "      <td>1</td>\n",
       "      <td>car_horn</td>\n",
       "    </tr>\n",
       "    <tr>\n",
       "      <th>8730</th>\n",
       "      <td>99812-1-5-0.wav</td>\n",
       "      <td>99812</td>\n",
       "      <td>253.209850</td>\n",
       "      <td>255.741948</td>\n",
       "      <td>2</td>\n",
       "      <td>7</td>\n",
       "      <td>1</td>\n",
       "      <td>car_horn</td>\n",
       "    </tr>\n",
       "    <tr>\n",
       "      <th>8731</th>\n",
       "      <td>99812-1-6-0.wav</td>\n",
       "      <td>99812</td>\n",
       "      <td>332.289233</td>\n",
       "      <td>334.821332</td>\n",
       "      <td>2</td>\n",
       "      <td>7</td>\n",
       "      <td>1</td>\n",
       "      <td>car_horn</td>\n",
       "    </tr>\n",
       "  </tbody>\n",
       "</table>\n",
       "<p>8732 rows × 8 columns</p>\n",
       "</div>"
      ],
      "text/plain": [
       "         slice_file_name    fsID       start         end  salience  fold  \\\n",
       "0       100032-3-0-0.wav  100032    0.000000    0.317551         1     5   \n",
       "1     100263-2-0-117.wav  100263   58.500000   62.500000         1     5   \n",
       "2     100263-2-0-121.wav  100263   60.500000   64.500000         1     5   \n",
       "3     100263-2-0-126.wav  100263   63.000000   67.000000         1     5   \n",
       "4     100263-2-0-137.wav  100263   68.500000   72.500000         1     5   \n",
       "...                  ...     ...         ...         ...       ...   ...   \n",
       "8727     99812-1-2-0.wav   99812  159.522205  163.522205         2     7   \n",
       "8728     99812-1-3-0.wav   99812  181.142431  183.284976         2     7   \n",
       "8729     99812-1-4-0.wav   99812  242.691902  246.197885         2     7   \n",
       "8730     99812-1-5-0.wav   99812  253.209850  255.741948         2     7   \n",
       "8731     99812-1-6-0.wav   99812  332.289233  334.821332         2     7   \n",
       "\n",
       "      classID             class  \n",
       "0           3          dog_bark  \n",
       "1           2  children_playing  \n",
       "2           2  children_playing  \n",
       "3           2  children_playing  \n",
       "4           2  children_playing  \n",
       "...       ...               ...  \n",
       "8727        1          car_horn  \n",
       "8728        1          car_horn  \n",
       "8729        1          car_horn  \n",
       "8730        1          car_horn  \n",
       "8731        1          car_horn  \n",
       "\n",
       "[8732 rows x 8 columns]"
      ]
     },
     "execution_count": 4,
     "metadata": {},
     "output_type": "execute_result"
    }
   ],
   "source": [
    "metadata_df=pd.read_csv('../tiny_data/UrbanSound8K.csv')\n",
    "metadata_df"
   ]
  },
  {
   "cell_type": "code",
   "execution_count": 5,
   "metadata": {},
   "outputs": [
    {
     "data": {
      "text/plain": [
       "array([[5, 3]])"
      ]
     },
     "execution_count": 5,
     "metadata": {},
     "output_type": "execute_result"
    }
   ],
   "source": [
    "metadata_df.loc[metadata_df['slice_file_name'] == '100032-3-0-0.wav', ['fold', 'classID']].values "
   ]
  },
  {
   "cell_type": "code",
   "execution_count": 6,
   "metadata": {},
   "outputs": [
    {
     "name": "stdout",
     "output_type": "stream",
     "text": [
      "22050\n"
     ]
    }
   ],
   "source": [
    "test_path = '../tiny_data/fold1/7383-3-0-0.wav'\n",
    "mp3, _ = librosa.load(test_path, mono=False)\n",
    "print(_)"
   ]
  },
  {
   "cell_type": "code",
   "execution_count": 7,
   "metadata": {},
   "outputs": [
    {
     "data": {
      "text/plain": [
       "(2, 88200)"
      ]
     },
     "execution_count": 7,
     "metadata": {},
     "output_type": "execute_result"
    }
   ],
   "source": [
    "len(mp3), mp3.shape[1]"
   ]
  },
  {
   "cell_type": "code",
   "execution_count": 8,
   "metadata": {},
   "outputs": [
    {
     "data": {
      "text/plain": [
       "44100"
      ]
     },
     "execution_count": 8,
     "metadata": {},
     "output_type": "execute_result"
    }
   ],
   "source": [
    "librosa.core.get_samplerate(test_path)"
   ]
  },
  {
   "cell_type": "code",
   "execution_count": 9,
   "metadata": {},
   "outputs": [
    {
     "data": {
      "text/plain": [
       "4.0"
      ]
     },
     "execution_count": 9,
     "metadata": {},
     "output_type": "execute_result"
    }
   ],
   "source": [
    "librosa.samples_to_time(mp3.shape[1], 22050)"
   ]
  },
  {
   "cell_type": "code",
   "execution_count": 10,
   "metadata": {},
   "outputs": [
    {
     "name": "stdout",
     "output_type": "stream",
     "text": [
      "../tiny_data/fold1/7383-3-0-0.wav 3\n",
      "../tiny_data/fold1/100032-3-0-0.wav 3\n"
     ]
    }
   ],
   "source": [
    "##for i in range(1, 11):\n",
    "slice_path = []\n",
    "slice_classid = []\n",
    "for i in [1]:\n",
    "    dirname = f'../tiny_data/fold{i}'\n",
    "    filenames = [f for f in os.listdir(dirname) if os.path.isfile(os.path.join(dirname, f))]\n",
    "    if not os.path.isdir('../slices_2d'):\n",
    "        os.mkdir('../slices_2d')      \n",
    "    #print(dirname + filenames)\n",
    "    \n",
    "    for f in filenames:\n",
    "        class_id = metadata_df.loc[metadata_df['slice_file_name'] == f, \"classID\"].values[0]\n",
    "        #slice_path.append(os.path.join(dirname, f))\n",
    "        #slice_classid.append(class_id)\n",
    "        print(os.path.join(dirname, f), class_id)\n",
    "        "
   ]
  },
  {
   "cell_type": "code",
   "execution_count": null,
   "metadata": {},
   "outputs": [],
   "source": []
  },
  {
   "cell_type": "code",
   "execution_count": 11,
   "metadata": {},
   "outputs": [],
   "source": [
    "# preprocessor\n",
    "class Audio_Preprocessor:\n",
    "    \"\"\"\n",
    "    audio preprocessor\n",
    "\n",
    "    transform_to_Sdb: transform audio into numpy array with two channels\n",
    "\n",
    "    slice_train: slice train audio array into fixed size window\n",
    "\n",
    "    slice_test: slice test audio array into fixed size window\n",
    "\n",
    "\n",
    "    \"\"\"\n",
    "\n",
    "    def __init__(self,\n",
    "                 hops_per_sec=HOPS_PER_SEC,\n",
    "                 hop_len=int(SAMPLING_RATE / HOPS_PER_SEC),\n",
    "                 n_mels=N_MELS,\n",
    "                 offset=OFFSET,\n",
    "                 duration=WIN_SEC):\n",
    "        self.hops_per_sec = hops_per_sec\n",
    "        self.hop_len = hop_len\n",
    "        self.n_mels = n_mels\n",
    "        self.offset = offset\n",
    "        self.duration = duration\n",
    "        self.width = self.duration * self.hops_per_sec\n",
    " \n",
    "    def check(self, aud_file):\n",
    "\n",
    "        self.stem = Path(aud_file).stem\n",
    "        sr = librosa.core.get_samplerate(aud_file)\n",
    "\n",
    "        if sr != 44100:\n",
    "            self.skip = True\n",
    "            print(f'skip file {audio_file}')\n",
    "\n",
    "        else:\n",
    "            self.skip = False\n",
    "            self.sp_rt = 44100\n",
    "            self.mp3, _ = librosa.load(aud_file, sr=self.sp_rt, mono=False)\n",
    "\n",
    "            total_time = librosa.samples_to_time(self.mp3.shape[1], self.sp_rt)\n",
    "            print(f'audio {self.stem} total {total_time} seconds.')\n",
    "\n",
    "    def transform_to_Sdb(self):\n",
    "        S0 = librosa.feature.melspectrogram(\n",
    "            y=self.mp3[0, :], sr=self.sp_rt, n_mels=self.n_mels, hop_length=self.hop_len)\n",
    "        S1 = librosa.feature.melspectrogram(\n",
    "            y=self.mp3[1, :], sr=self.sp_rt, n_mels=self.n_mels, hop_length=self.hop_len)\n",
    "        S = np.dstack([S0, S1])\n",
    "\n",
    "        self.S_db = librosa.power_to_db(S, ref=np.max)\n",
    "        self.S_db = np.swapaxes(self.S_db, 0, 1)\n",
    "\n",
    "    def slice_train(self):\n",
    "        S_db_scale = self.S_db/-80  # normalize into range [0, 1]\n",
    "        n, m, k = S_db_scale.shape  # m = N_MELS\n",
    "\n",
    "        self.resx_train = {}\n",
    "        for i in range(0, n - self.width + 1, 10):  # 5 hops ahead overlapping\n",
    "            X = S_db_scale[i:self.width + i, :, :]\n",
    "            #self.resx_train.append(X)\n",
    "            filename = f'{self.stem}_w{i}.npy'\n",
    "            self.resx_train[filename] = X\n",
    "\n",
    "        print(f'split {self.stem}.wav for training into array with {len(self.resx_train)} windows')\n",
    "\n",
    "    def slice_test(self):\n",
    "\n",
    "        S_db_scale = self.S_db/-80  # normalize into range [0, 1]\n",
    "        n, m, k = S_db_scale.shape  # m = N_MELS\n",
    "\n",
    "        resx_test = []\n",
    "        for i in range(0, n, self.width):  # non-overlapping for test\n",
    "            x = S_db_scale[i:i+self.width, :, :]\n",
    "            left = self.width - x.shape[0]\n",
    "            if left > 0:\n",
    "                x = S_db_scale[i-left:, :, :]\n",
    "            resx_test.append(x)\n",
    "\n",
    "        test_array = np.stack(resx_test)\n",
    "        print(\n",
    "            f'split audio {self.stem}.wav for testing with shape: {test_array.shape}')\n",
    "        \n"
   ]
  },
  {
   "cell_type": "code",
   "execution_count": 12,
   "metadata": {},
   "outputs": [
    {
     "name": "stdout",
     "output_type": "stream",
     "text": [
      "audio 7383-3-0-0 total 4.0 seconds.\n"
     ]
    }
   ],
   "source": [
    "ap = Audio_Preprocessor()\n",
    "ap.check(test_path)"
   ]
  },
  {
   "cell_type": "code",
   "execution_count": 13,
   "metadata": {},
   "outputs": [
    {
     "data": {
      "text/plain": [
       "False"
      ]
     },
     "execution_count": 13,
     "metadata": {},
     "output_type": "execute_result"
    }
   ],
   "source": [
    "ap.skip"
   ]
  },
  {
   "cell_type": "code",
   "execution_count": 14,
   "metadata": {},
   "outputs": [],
   "source": [
    "ap.transform_to_Sdb()"
   ]
  },
  {
   "cell_type": "code",
   "execution_count": 15,
   "metadata": {},
   "outputs": [
    {
     "data": {
      "text/plain": [
       "(129, 16, 2)"
      ]
     },
     "execution_count": 15,
     "metadata": {},
     "output_type": "execute_result"
    }
   ],
   "source": [
    "ap.S_db.shape"
   ]
  },
  {
   "cell_type": "code",
   "execution_count": 16,
   "metadata": {},
   "outputs": [
    {
     "name": "stdout",
     "output_type": "stream",
     "text": [
      "split 7383-3-0-0.wav for training into array with 10 windows\n"
     ]
    }
   ],
   "source": [
    "ap.slice_train() # save into slices_2d folder"
   ]
  },
  {
   "cell_type": "code",
   "execution_count": 17,
   "metadata": {},
   "outputs": [
    {
     "name": "stdout",
     "output_type": "stream",
     "text": [
      "7383-3-0-0_w0.npy (32, 16, 2)\n",
      "7383-3-0-0_w10.npy (32, 16, 2)\n",
      "7383-3-0-0_w20.npy (32, 16, 2)\n",
      "7383-3-0-0_w30.npy (32, 16, 2)\n",
      "7383-3-0-0_w40.npy (32, 16, 2)\n",
      "7383-3-0-0_w50.npy (32, 16, 2)\n",
      "7383-3-0-0_w60.npy (32, 16, 2)\n",
      "7383-3-0-0_w70.npy (32, 16, 2)\n",
      "7383-3-0-0_w80.npy (32, 16, 2)\n",
      "7383-3-0-0_w90.npy (32, 16, 2)\n"
     ]
    }
   ],
   "source": [
    "for key, signal in ap.resx_train.items():\n",
    "    print(key, signal.shape)"
   ]
  },
  {
   "cell_type": "markdown",
   "metadata": {},
   "source": [
    "# try on fold scale"
   ]
  },
  {
   "cell_type": "code",
   "execution_count": 19,
   "metadata": {},
   "outputs": [
    {
     "name": "stdout",
     "output_type": "stream",
     "text": [
      "audio 7383-3-0-0 total 4.0 seconds.\n",
      "split 7383-3-0-0.wav for training into array with 10 windows\n",
      "audio 100032-3-0-0 total 4.0 seconds.\n",
      "split 100032-3-0-0.wav for training into array with 10 windows\n",
      "audio 103199-4-0-0 total 4.0 seconds.\n",
      "split 103199-4-0-0.wav for training into array with 10 windows\n",
      "audio 102105-3-0-0 total 4.0 seconds.\n",
      "split 102105-3-0-0.wav for training into array with 10 windows\n"
     ]
    }
   ],
   "source": [
    "##for i in range(1, 11):\n",
    "ap = Audio_Preprocessor()\n",
    "\n",
    "slice_path = []\n",
    "slice_classid = []\n",
    "for i in [1, 4]:\n",
    "    dirname = f'../tiny_data/fold{i}'\n",
    "    filenames = [f for f in os.listdir(dirname) if os.path.isfile(os.path.join(dirname, f))]\n",
    "    if not os.path.isdir('../slices_2d'):\n",
    "        os.mkdir('../slices_2d')      \n",
    "    \n",
    "    for f in filenames:\n",
    "        ap.check(os.path.join(dirname, f))\n",
    "        if not ap.skip:\n",
    "            # get class id\n",
    "            class_id = metadata_df.loc[metadata_df['slice_file_name'] == f, \"classID\"].values[0]\n",
    "\n",
    "            # slice audio into windows\n",
    "            ap.transform_to_Sdb()\n",
    "            ap.slice_train()\n",
    "            if not os.path.isdir(f'../slices_2d/fold{i}'):\n",
    "                os.mkdir(f'../slices_2d/fold{i}') \n",
    "                \n",
    "            for key, window in ap.resx_train.items():\n",
    "                np.save(f'../slices_2d/fold{i}/{key}', window)\n",
    "                slice_path.append(f'../slices_2d/fold{i}/{key}')\n",
    "                slice_classid.append(class_id)\n",
    "                \n"
   ]
  },
  {
   "cell_type": "code",
   "execution_count": 21,
   "metadata": {},
   "outputs": [],
   "source": [
    "# get metadata of slice window\n",
    "window_df = pd.DataFrame(\n",
    "    {'file_path': slice_path,\n",
    "     'classid': slice_classid\n",
    "     })\n",
    "\n",
    "window_df.to_csv(\"../tiny_data/slice_2d_filenames.csv\")"
   ]
  },
  {
   "cell_type": "code",
   "execution_count": 16,
   "metadata": {},
   "outputs": [],
   "source": [
    "# visualize mel spectrogram"
   ]
  },
  {
   "cell_type": "code",
   "execution_count": 7,
   "metadata": {},
   "outputs": [
    {
     "name": "stderr",
     "output_type": "stream",
     "text": [
      "/home/jovyan/my-conda-envs/audio_dropout/lib/python3.8/site-packages/librosa/display.py:974: MatplotlibDeprecationWarning: The 'basey' parameter of __init__() has been renamed 'base' since Matplotlib 3.3; support for the old name will be dropped two minor releases later.\n",
      "  scaler(mode, **kwargs)\n",
      "/home/jovyan/my-conda-envs/audio_dropout/lib/python3.8/site-packages/librosa/display.py:974: MatplotlibDeprecationWarning: The 'linthreshy' parameter of __init__() has been renamed 'linthresh' since Matplotlib 3.3; support for the old name will be dropped two minor releases later.\n",
      "  scaler(mode, **kwargs)\n"
     ]
    },
    {
     "data": {
      "image/png": "[encoded data removed]",
      "text/plain": [
       "<Figure size 864x288 with 2 Axes>"
      ]
     },
     "metadata": {
      "needs_background": "light"
     },
     "output_type": "display_data"
    }
   ],
   "source": [
    "def vis_array(Sdb):\n",
    "    fig, axes = plt.subplots(figsize=(12, 4), nrows = 1 , ncols = 2)\n",
    "    ax1, ax2 = axes.flatten()\n",
    "\n",
    "    img = specshow(np.rot90(Sdb[:, :, 0]), x_axis='time', y_axis='mel',\n",
    "                ax=ax1, sr=SAMPLING_RATE, hop_length=HOP_LENGTH)\n",
    "\n",
    "    ax1.set_title(f'channel 1')\n",
    "\n",
    "\n",
    "    img = specshow(np.rot90(Sdb[:, :, 1]), x_axis='time', y_axis='mel',\n",
    "                ax=ax2, sr=SAMPLING_RATE, hop_length=HOP_LENGTH)\n",
    "\n",
    "    ax2.set_title(f'channel 2')\n",
    "\n",
    "    plt.show()\n",
    "    \n",
    "vis_array(ap.S_db)"
   ]
  },
  {
   "cell_type": "code",
   "execution_count": null,
   "metadata": {},
   "outputs": [],
   "source": [
    " "
   ]
  },
  {
   "cell_type": "code",
   "execution_count": null,
   "metadata": {},
   "outputs": [],
   "source": [
    "# edit "
   ]
  }
 ],
 "metadata": {
  "kernelspec": {
   "display_name": "Python 3",
   "language": "python",
   "name": "python3"
  },
  "language_info": {
   "codemirror_mode": {
    "name": "ipython",
    "version": 3
   },
   "file_extension": ".py",
   "mimetype": "text/x-python",
   "name": "python",
   "nbconvert_exporter": "python",
   "pygments_lexer": "ipython3",
   "version": "3.8.5"
  }
 },
 "nbformat": 4,
 "nbformat_minor": 2
}
